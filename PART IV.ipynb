{
 "cells": [
  {
   "cell_type": "markdown",
   "metadata": {},
   "source": [
    "# PART IV"
   ]
  },
  {
   "cell_type": "markdown",
   "metadata": {},
   "source": [
    "- Business case formulated : Lift calculated based on the probability score of each person in test set"
   ]
  },
  {
   "cell_type": "markdown",
   "metadata": {},
   "source": [
    "Business Understanding\n",
    "\n",
    "- A term deposit is a deposit held at a financial institution that has a fixed term. These are generally short term with maturities ranging anywhere from a month to a few years. When a term deposit is purchased, the lender (the customer) understands that the money can only be withdrawn after a term has ended or by giving a predetermined number of days’ notice.\n",
    "- Term deposits are an extremely safe investment and are therefore very appealing to conservative, low risk investors.\n",
    "- Instead of mass marketing, the bank has chosen to be more proactive in identifying potential buyers and communicate straight to the customers via telephone calls.\n",
    "- Direct marketing is useful here because its positive results can be measured directly.\n",
    "\n",
    "  - The data for this exercise consists of about 41188 data points split in a 80/20 ratio among training and test files.\n",
    "  - In the experiment simulated by the data, a promotional campaign was tested to see if it would bring more clients to subscribe to a bank term deposit of €250 (minimum ammount in most portuguese banks, will be used as reference). It costs the company on average € 3,54  to directly call a client and try to pitch the promotional campaign.\n",
    "  - In order to maximize incremental revenue, it would be best to limit the promotional only to those that would be most receptive to it. \n",
    "  \n",
    "         -Each data point includes one column indicating whether or not a client received a promotion for the product (´Promotion'), and one column indicating whether or not that client eventually subscribed to a term deposit ('y').\n",
    "        - Each client also has 11 additional features associated to them, which may impact on how the predictive models behave\n",
    "        after they are trained with the treatment and outcome information ( treatment= 'Promotion', outcome= 'y').\n",
    "  "
   ]
  },
  {
   "cell_type": "markdown",
   "metadata": {},
   "source": [
    "Optimization Strategy\n",
    "\n",
    "\n",
    "- Use the training data to understand the patterns in the 11 associated client features to indicate if a Promotion would be communicated to and received by a client.\n",
    "\n",
    "- The goal is to maximize the following metrics:\n",
    "\n",
    "  - Incremental Response Rate (IRR)\n",
    "  \n",
    "- IRR depicts how many more customers purchased the product with the promotion, as compared to if they didn't receive the promotion. It would be represented as the ratio of the number of purchasers in the promotion group to the total number of customers in the purchasers group (treatment) minus the ratio of the number of purchasers in the non-promotional group to the total number of customers in the non-promotional group (control).\n",
    "\n",
    "  - IRR = n_treat_purch / n_treat - n_ctrl_purch / n_control\n",
    "  \n",
    "  - Net Incremental Revenue (NIR)\n",
    "  \n",
    "- NIR depicts how much is made (or lost) by sending out the promotion.It would be represented as 250 times the total number of purchasers that received the promotion minus 3.54 times the number of promotions sent out, minus 250 times the number of purchasers who were not given the promotion.\n",
    "\n",
    "   - NIR = 250 * n_treat_purch - 3.54 * n_treat - 250 * n_ctrl_purch\n",
    "   \n",
    "How to test the Strategy?\n",
    "\n",
    "After building an optimization strategy which alligns the business objective and the statistical rules of the model, complete the promotion_strategy function to pass to the test_results function.\n",
    "From past data, we know there are four possible outomes:\n",
    "\n",
    "Table of actual promotion vs. predicted promotion customers: ### Insert table / kane.et.al or siegel ####\n",
    "\n",
    "\n",
    "The metrics are only being compared for the individuals predicted that should obtain the promotion – that is, quadrants I and II. Since the first set of individuals that receive the promotion (in the training set) receive it randomly, it can be expected that quadrants I and II will have approximately equivalent participants.\n",
    "\n",
    "Comparing quadrant I to II then gives an idea of how well your promotion strategy will work in the future.\n",
    "\n",
    "Get started by reading in the data below. See how each variable or combination of variables along with a promotion influences the chance of subscribtion."
   ]
  },
  {
   "cell_type": "code",
   "execution_count": 1,
   "metadata": {},
   "outputs": [],
   "source": [
    "# load in packages\n",
    "from itertools import combinations\n",
    "\n",
    "import numpy as np\n",
    "import pandas as pd\n",
    "import scipy as sp\n",
    "import sklearn as sk\n",
    "import xgboost as xgb\n",
    "from imblearn.over_sampling import SMOTE\n",
    "from statsmodels.stats.power import NormalIndPower\n",
    "from statsmodels.stats.proportion import proportion_effectsize\n",
    "\n",
    "import matplotlib.pyplot as plt\n",
    "import seaborn as sb\n",
    "%matplotlib inline"
   ]
  },
  {
   "cell_type": "markdown",
   "metadata": {},
   "source": [
    "either change promotion to yes no\n",
    "or promos to response"
   ]
  },
  {
   "cell_type": "code",
   "execution_count": 2,
   "metadata": {},
   "outputs": [],
   "source": [
    "\n",
    "def score(df, promo_pred_col = 'Promotion'):\n",
    "    n_treat       = df.loc[df[promo_pred_col] == 'Received',:].shape[0]\n",
    "    n_control     = df.loc[df[promo_pred_col] == 'Not Received',:].shape[0]\n",
    "    n_treat_purch = df.loc[df[promo_pred_col] == 'Received', 'y'].sum()\n",
    "    n_ctrl_purch  = df.loc[df[promo_pred_col] == 'Not Received', 'y'].sum()\n",
    "    irr = n_treat_purch / n_treat - n_ctrl_purch / n_control\n",
    "    nir = 250 * n_treat_purch - 3.54 * n_treat - 250 * n_ctrl_purch\n",
    "    return (irr, nir)\n",
    "\n",
    "def test_results(promotion_strategy):\n",
    "    test_data = pd.read_csv(r'C:\\Users\\rol3x\\MAIN_PATH\\testwlabel.csv',delimiter =',') # test data = testwlabel\n",
    "    df = test_data[['age','job','marital','education','housing','contact','month','day_of_week','duration','previous','poutcome']]\n",
    "    promos = promotion_strategy(df)\n",
    "    score_df = test_data.iloc[np.where(promos == 'yes')]    \n",
    "    irr, nir = score(score_df)\n",
    "    \n",
    "    #print('Your irr with this strategy is {:0.4f}.'.format(irr))\n",
    "    #print()\n",
    "   # print('Your nir with this strategy is {:0.2f}.'.format(nir))\n",
    "    return irr, nir\n",
    "\n",
    "# added this function to test our irr and nlr on the validation set\n",
    "def valid_results(promotion_strategy, valid_data):\n",
    "    df = valid_data[['age','job','marital','education','housing','contact','month','day_of_week','duration','previous','poutcome']]\n",
    "    promos = promotion_strategy(df)\n",
    "    score_df = valid_data.iloc[np.where(promos == 'yes')]    \n",
    "    irr, nir = score(score_df)\n",
    "    #print()\n",
    "   # print('Your irr with this strategy is {:0.4f}.'.format(irr))\n",
    "    #print()\n",
    "    #print('Your nir with this strategy is {:0.2f}.'.format(nir))\n",
    "    return irr, nir"
   ]
  },
  {
   "cell_type": "code",
   "execution_count": 3,
   "metadata": {},
   "outputs": [],
   "source": [
    "# Load df_data\n",
    "df_data = pd.read_csv(r'C:\\Users\\rol3x\\MAIN_PATH\\df_data.csv',delimiter =',')"
   ]
  },
  {
   "cell_type": "code",
   "execution_count": 4,
   "metadata": {},
   "outputs": [],
   "source": [
    "# Load in test_data, check if everuthing checks out, compare with df_data\n",
    "test_data = pd.read_csv(r'C:\\Users\\rol3x\\MAIN_PATH\\testwlabel.csv',delimiter =',')\n"
   ]
  },
  {
   "cell_type": "code",
   "execution_count": 5,
   "metadata": {},
   "outputs": [],
   "source": [
    "# Drop Unnamed: 0 from bots sets, it tries to identify client number. The sets already have nr as enrty.\n",
    "df_data = df_data.drop(['Unnamed: 0'],axis=1)\n",
    "test_data = test_data.drop(['Unnamed: 0'],axis=1)"
   ]
  },
  {
   "cell_type": "code",
   "execution_count": 6,
   "metadata": {},
   "outputs": [
    {
     "data": {
      "text/html": [
       "<div>\n",
       "<style scoped>\n",
       "    .dataframe tbody tr th:only-of-type {\n",
       "        vertical-align: middle;\n",
       "    }\n",
       "\n",
       "    .dataframe tbody tr th {\n",
       "        vertical-align: top;\n",
       "    }\n",
       "\n",
       "    .dataframe thead th {\n",
       "        text-align: right;\n",
       "    }\n",
       "</style>\n",
       "<table border=\"1\" class=\"dataframe\">\n",
       "  <thead>\n",
       "    <tr style=\"text-align: right;\">\n",
       "      <th></th>\n",
       "      <th>age</th>\n",
       "      <th>job</th>\n",
       "      <th>marital</th>\n",
       "      <th>education</th>\n",
       "      <th>housing</th>\n",
       "      <th>contact</th>\n",
       "      <th>month</th>\n",
       "      <th>day_of_week</th>\n",
       "      <th>duration</th>\n",
       "      <th>previous</th>\n",
       "      <th>poutcome</th>\n",
       "      <th>y</th>\n",
       "      <th>Promotion</th>\n",
       "    </tr>\n",
       "  </thead>\n",
       "  <tbody>\n",
       "    <tr>\n",
       "      <th>0</th>\n",
       "      <td>3</td>\n",
       "      <td>3</td>\n",
       "      <td>1</td>\n",
       "      <td>0</td>\n",
       "      <td>0</td>\n",
       "      <td>1</td>\n",
       "      <td>6</td>\n",
       "      <td>1</td>\n",
       "      <td>3</td>\n",
       "      <td>0</td>\n",
       "      <td>1</td>\n",
       "      <td>0</td>\n",
       "      <td>Received</td>\n",
       "    </tr>\n",
       "    <tr>\n",
       "      <th>1</th>\n",
       "      <td>3</td>\n",
       "      <td>7</td>\n",
       "      <td>1</td>\n",
       "      <td>3</td>\n",
       "      <td>0</td>\n",
       "      <td>1</td>\n",
       "      <td>6</td>\n",
       "      <td>1</td>\n",
       "      <td>2</td>\n",
       "      <td>0</td>\n",
       "      <td>1</td>\n",
       "      <td>0</td>\n",
       "      <td>Not Received</td>\n",
       "    </tr>\n",
       "    <tr>\n",
       "      <th>2</th>\n",
       "      <td>2</td>\n",
       "      <td>7</td>\n",
       "      <td>1</td>\n",
       "      <td>3</td>\n",
       "      <td>2</td>\n",
       "      <td>1</td>\n",
       "      <td>6</td>\n",
       "      <td>1</td>\n",
       "      <td>3</td>\n",
       "      <td>0</td>\n",
       "      <td>1</td>\n",
       "      <td>0</td>\n",
       "      <td>Received</td>\n",
       "    </tr>\n",
       "    <tr>\n",
       "      <th>3</th>\n",
       "      <td>2</td>\n",
       "      <td>0</td>\n",
       "      <td>1</td>\n",
       "      <td>1</td>\n",
       "      <td>0</td>\n",
       "      <td>1</td>\n",
       "      <td>6</td>\n",
       "      <td>1</td>\n",
       "      <td>2</td>\n",
       "      <td>0</td>\n",
       "      <td>1</td>\n",
       "      <td>0</td>\n",
       "      <td>Not Received</td>\n",
       "    </tr>\n",
       "    <tr>\n",
       "      <th>4</th>\n",
       "      <td>3</td>\n",
       "      <td>7</td>\n",
       "      <td>1</td>\n",
       "      <td>3</td>\n",
       "      <td>0</td>\n",
       "      <td>1</td>\n",
       "      <td>6</td>\n",
       "      <td>1</td>\n",
       "      <td>3</td>\n",
       "      <td>0</td>\n",
       "      <td>1</td>\n",
       "      <td>0</td>\n",
       "      <td>Received</td>\n",
       "    </tr>\n",
       "  </tbody>\n",
       "</table>\n",
       "</div>"
      ],
      "text/plain": [
       "   age  job  marital  education  housing  contact  month  day_of_week  \\\n",
       "0    3    3        1          0        0        1      6            1   \n",
       "1    3    7        1          3        0        1      6            1   \n",
       "2    2    7        1          3        2        1      6            1   \n",
       "3    2    0        1          1        0        1      6            1   \n",
       "4    3    7        1          3        0        1      6            1   \n",
       "\n",
       "   duration  previous  poutcome  y     Promotion  \n",
       "0         3         0         1  0      Received  \n",
       "1         2         0         1  0  Not Received  \n",
       "2         3         0         1  0      Received  \n",
       "3         2         0         1  0  Not Received  \n",
       "4         3         0         1  0      Received  "
      ]
     },
     "execution_count": 6,
     "metadata": {},
     "output_type": "execute_result"
    }
   ],
   "source": [
    "# Check df data ( training set)\n",
    "df_data.head()"
   ]
  },
  {
   "cell_type": "code",
   "execution_count": 7,
   "metadata": {},
   "outputs": [
    {
     "data": {
      "text/html": [
       "<div>\n",
       "<style scoped>\n",
       "    .dataframe tbody tr th:only-of-type {\n",
       "        vertical-align: middle;\n",
       "    }\n",
       "\n",
       "    .dataframe tbody tr th {\n",
       "        vertical-align: top;\n",
       "    }\n",
       "\n",
       "    .dataframe thead th {\n",
       "        text-align: right;\n",
       "    }\n",
       "</style>\n",
       "<table border=\"1\" class=\"dataframe\">\n",
       "  <thead>\n",
       "    <tr style=\"text-align: right;\">\n",
       "      <th></th>\n",
       "      <th>age</th>\n",
       "      <th>job</th>\n",
       "      <th>marital</th>\n",
       "      <th>education</th>\n",
       "      <th>housing</th>\n",
       "      <th>contact</th>\n",
       "      <th>month</th>\n",
       "      <th>day_of_week</th>\n",
       "      <th>duration</th>\n",
       "      <th>previous</th>\n",
       "      <th>poutcome</th>\n",
       "      <th>y</th>\n",
       "      <th>Promotion</th>\n",
       "    </tr>\n",
       "  </thead>\n",
       "  <tbody>\n",
       "    <tr>\n",
       "      <th>0</th>\n",
       "      <td>3</td>\n",
       "      <td>7</td>\n",
       "      <td>1</td>\n",
       "      <td>1</td>\n",
       "      <td>2</td>\n",
       "      <td>0</td>\n",
       "      <td>7</td>\n",
       "      <td>4</td>\n",
       "      <td>5</td>\n",
       "      <td>0</td>\n",
       "      <td>1</td>\n",
       "      <td>0</td>\n",
       "      <td>Received</td>\n",
       "    </tr>\n",
       "    <tr>\n",
       "      <th>1</th>\n",
       "      <td>3</td>\n",
       "      <td>9</td>\n",
       "      <td>1</td>\n",
       "      <td>5</td>\n",
       "      <td>2</td>\n",
       "      <td>0</td>\n",
       "      <td>3</td>\n",
       "      <td>2</td>\n",
       "      <td>1</td>\n",
       "      <td>0</td>\n",
       "      <td>1</td>\n",
       "      <td>0</td>\n",
       "      <td>Not Received</td>\n",
       "    </tr>\n",
       "    <tr>\n",
       "      <th>2</th>\n",
       "      <td>1</td>\n",
       "      <td>1</td>\n",
       "      <td>2</td>\n",
       "      <td>0</td>\n",
       "      <td>0</td>\n",
       "      <td>0</td>\n",
       "      <td>7</td>\n",
       "      <td>2</td>\n",
       "      <td>2</td>\n",
       "      <td>0</td>\n",
       "      <td>1</td>\n",
       "      <td>0</td>\n",
       "      <td>Not Received</td>\n",
       "    </tr>\n",
       "    <tr>\n",
       "      <th>3</th>\n",
       "      <td>1</td>\n",
       "      <td>7</td>\n",
       "      <td>1</td>\n",
       "      <td>5</td>\n",
       "      <td>0</td>\n",
       "      <td>1</td>\n",
       "      <td>6</td>\n",
       "      <td>1</td>\n",
       "      <td>3</td>\n",
       "      <td>0</td>\n",
       "      <td>1</td>\n",
       "      <td>0</td>\n",
       "      <td>Received</td>\n",
       "    </tr>\n",
       "    <tr>\n",
       "      <th>4</th>\n",
       "      <td>1</td>\n",
       "      <td>1</td>\n",
       "      <td>2</td>\n",
       "      <td>3</td>\n",
       "      <td>2</td>\n",
       "      <td>0</td>\n",
       "      <td>6</td>\n",
       "      <td>2</td>\n",
       "      <td>3</td>\n",
       "      <td>0</td>\n",
       "      <td>1</td>\n",
       "      <td>0</td>\n",
       "      <td>Received</td>\n",
       "    </tr>\n",
       "  </tbody>\n",
       "</table>\n",
       "</div>"
      ],
      "text/plain": [
       "   age  job  marital  education  housing  contact  month  day_of_week  \\\n",
       "0    3    7        1          1        2        0      7            4   \n",
       "1    3    9        1          5        2        0      3            2   \n",
       "2    1    1        2          0        0        0      7            2   \n",
       "3    1    7        1          5        0        1      6            1   \n",
       "4    1    1        2          3        2        0      6            2   \n",
       "\n",
       "   duration  previous  poutcome  y     Promotion  \n",
       "0         5         0         1  0      Received  \n",
       "1         1         0         1  0  Not Received  \n",
       "2         2         0         1  0  Not Received  \n",
       "3         3         0         1  0      Received  \n",
       "4         3         0         1  0      Received  "
      ]
     },
     "execution_count": 7,
     "metadata": {},
     "output_type": "execute_result"
    }
   ],
   "source": [
    "# Check test_data (test-set)\n",
    "test_data.head()"
   ]
  },
  {
   "cell_type": "code",
   "execution_count": 8,
   "metadata": {},
   "outputs": [],
   "source": [
    "# Assign features in a dataframe separately form 'Promotion' and 'y'\n",
    "\n",
    "features =['age','job','marital','education','housing','contact','month','day_of_week','duration','previous','poutcome']"
   ]
  },
  {
   "cell_type": "markdown",
   "metadata": {},
   "source": [
    "# Exploratory analysis"
   ]
  },
  {
   "cell_type": "code",
   "execution_count": 9,
   "metadata": {},
   "outputs": [
    {
     "data": {
      "text/plain": [
       "Not Received    20705\n",
       "Received        20483\n",
       "Name: Promotion, dtype: int64"
      ]
     },
     "execution_count": 9,
     "metadata": {},
     "output_type": "execute_result"
    }
   ],
   "source": [
    "# Value count check 1\n",
    "df_data['Promotion'].value_counts()"
   ]
  },
  {
   "cell_type": "markdown",
   "metadata": {},
   "source": [
    "If we treat the act of giving promotion as a treatment given by the company to its customers and those that were not given promotion as the control group, it can be seen that there is nearly an equal number of customers that belong to both the groups."
   ]
  },
  {
   "cell_type": "code",
   "execution_count": 10,
   "metadata": {},
   "outputs": [
    {
     "data": {
      "text/plain": [
       "0    36548\n",
       "1     4640\n",
       "Name: y, dtype: int64"
      ]
     },
     "execution_count": 10,
     "metadata": {},
     "output_type": "execute_result"
    }
   ],
   "source": [
    "# Value count check 2\n",
    "df_data['y'].value_counts()"
   ]
  },
  {
   "cell_type": "markdown",
   "metadata": {},
   "source": [
    "It is clear from this numbers that there is a high imbalance in the number of customers who chose to purchase the product vs those who didn't. It may be necessary to use oversampling techniques from under-represented (minority) value 1 for target variable subscribed. SMOTE is one useful technique that generates balanced dataset for training purpose while also introducing some variations in the input variables while oversampling the data with minority target value.\n",
    "\n",
    "SMOTE (Synthetic Minority Oversampling Technique),allows us to create new observations with slightly different feature values from the original observations. This is often a better approach than just resampling the original data, which will create too many duplicated data points and lead to over-fitting in the machine learning model.\n",
    "source: https://medium.com/datadriveninvestor/simple-machine-learning-techniques-to-improve-your-marketing-strategy-demystifying-uplift-models-dc4fb3f927a2"
   ]
  },
  {
   "cell_type": "markdown",
   "metadata": {},
   "source": [
    "# Promotion and y dispersion in df features - Training set"
   ]
  },
  {
   "cell_type": "code",
   "execution_count": 11,
   "metadata": {},
   "outputs": [],
   "source": [
    "# df_data[(df_data['Promotion']=='Received') & (df_data['y']== 1 )][df].hist(figsize=(12,12)); # Equivalent to Group TR"
   ]
  },
  {
   "cell_type": "code",
   "execution_count": 12,
   "metadata": {},
   "outputs": [],
   "source": [
    "#df_data[(df_data['Promotion']=='Received') & (df_data['y']== 0 )][df].hist(figsize=(12,12)); # Equivalent to Group TN"
   ]
  },
  {
   "cell_type": "code",
   "execution_count": 13,
   "metadata": {},
   "outputs": [],
   "source": [
    "#df_data[(df_data['Promotion']=='Not Received') & (df_data['y']== 1 )][df].hist(figsize=(12,12)); # Equivalent to Group CR"
   ]
  },
  {
   "cell_type": "code",
   "execution_count": 14,
   "metadata": {},
   "outputs": [],
   "source": [
    "#df_data[(df_data['Promotion']=='Not Received') & (df_data['y']== 0 )][df].hist(figsize=(12,12)); # Equivalent to Group CN"
   ]
  },
  {
   "cell_type": "markdown",
   "metadata": {},
   "source": [
    "# Promotion and y dispersion in df features - Test set"
   ]
  },
  {
   "cell_type": "code",
   "execution_count": 15,
   "metadata": {},
   "outputs": [],
   "source": [
    "#test_data[(test_data['Promotion']=='Received') & (test_data['y']== 1 )][df].hist(figsize=(12,12)); # Equivalent to Group TR"
   ]
  },
  {
   "cell_type": "code",
   "execution_count": 16,
   "metadata": {},
   "outputs": [],
   "source": [
    "#test_data[(test_data['Promotion']=='Received') & (test_data['y']== 0 )][df].hist(figsize=(12,12)); # Equivalent to Group TN"
   ]
  },
  {
   "cell_type": "code",
   "execution_count": 17,
   "metadata": {},
   "outputs": [],
   "source": [
    "#test_data[(test_data['Promotion']=='Not Received') & (test_data['y']== 1 )][df].hist(figsize=(12,12)); # Equivalent to Group CR"
   ]
  },
  {
   "cell_type": "code",
   "execution_count": 18,
   "metadata": {},
   "outputs": [],
   "source": [
    "#test_data[(test_data['Promotion']=='Not Received') & (test_data['y']== 0 )][df].hist(figsize=(12,12)); # Equivalent to Group CN"
   ]
  },
  {
   "cell_type": "markdown",
   "metadata": {},
   "source": [
    "# Base Model - where we send promotions to everyone ( Traditional Response  example)"
   ]
  },
  {
   "cell_type": "code",
   "execution_count": 19,
   "metadata": {},
   "outputs": [],
   "source": [
    "def promotion_strategy(df):\n",
    "    \n",
    "    test = df\n",
    "    \n",
    "    send = []\n",
    "    \n",
    "    num_test_points = test.shape[0]\n",
    "    \n",
    "    for i in range(num_test_points):\n",
    "        send.append('yes')\n",
    "        \n",
    "    send = np.array(send)\n",
    "    \n",
    "    return send"
   ]
  },
  {
   "cell_type": "code",
   "execution_count": 20,
   "metadata": {},
   "outputs": [
    {
     "data": {
      "text/plain": [
       "(0.17804621353436778, 169143.96)"
      ]
     },
     "execution_count": 20,
     "metadata": {},
     "output_type": "execute_result"
    }
   ],
   "source": [
    "# This will test your results, and provide you back some information \n",
    "# on how well your promotion_strategy will work in practice\n",
    "\n",
    "test_results(promotion_strategy)"
   ]
  },
  {
   "cell_type": "markdown",
   "metadata": {},
   "source": [
    "- For the baseline model, we should only consider the NIR. Since response is measured directly from a previous control group of a similar campaign, opposed to IRR which is a predicted outcome."
   ]
  },
  {
   "cell_type": "markdown",
   "metadata": {},
   "source": [
    "# Useful Information"
   ]
  },
  {
   "cell_type": "markdown",
   "metadata": {},
   "source": [
    "- Clients divided into the 2 Groups: Treatment & Control\n",
    "  - Control      20705\n",
    "  - Treatment    20483"
   ]
  },
  {
   "cell_type": "markdown",
   "metadata": {},
   "source": [
    "- Customers divided into the 4 subroups of Treatment & Control\n",
    "  - CN    20141\n",
    "  - TN    16407\n",
    "  - TR     4076\n",
    "  - CR      564"
   ]
  },
  {
   "cell_type": "markdown",
   "metadata": {},
   "source": [
    "# Incremental Response Rate (IRR)- For Baseline use response rate function"
   ]
  },
  {
   "cell_type": "markdown",
   "metadata": {},
   "source": [
    "\n",
    "- IRR measures how many more customers purchased the product with the promotion, as compared to if they didn’t receive the promotion.\n"
   ]
  },
  {
   "cell_type": "code",
   "execution_count": 21,
   "metadata": {},
   "outputs": [
    {
     "data": {
      "text/plain": [
       "0.11265417111780131"
      ]
     },
     "execution_count": 21,
     "metadata": {},
     "output_type": "execute_result"
    }
   ],
   "source": [
    "# Standard Response Rate for this campaign if No Groups are used / Traditional response model\n",
    "\n",
    "4640/41188"
   ]
  },
  {
   "cell_type": "markdown",
   "metadata": {},
   "source": [
    "If a traditional response model is used, the response rate will have a likelyhood of 11,26%"
   ]
  },
  {
   "cell_type": "markdown",
   "metadata": {},
   "source": [
    "# Net Incremental Revenue (NIR)"
   ]
  },
  {
   "cell_type": "markdown",
   "metadata": {},
   "source": [
    "\n",
    "- NIR measures how much is made (or lost) by sending out the promotion.\n",
    "- Mathematically, this is 250 times the total number of purchasers that received the promotion minus 3.54 times the number of promotions sent out, minus 250 times the number of purchasers who did not receive the promotion."
   ]
  },
  {
   "cell_type": "markdown",
   "metadata": {},
   "source": [
    "# More Information"
   ]
  },
  {
   "cell_type": "markdown",
   "metadata": {},
   "source": [
    "- Total number of purchasers = 4076 + 564 = 4640\n",
    "- Total number of non purchasers = 41188 - 4640 = 36548\n",
    "- Average cost per call = 258 * 1.2 = 309,6 cents or 3.1 €\n",
    "\n",
    "- Campaign Costs:\n",
    "- West Europe call centres average at 45€ per hour\n",
    "If the rate per h = 45 € , and if there are a total of 3242 hours and 10 min duration, then the bill for call duration would be € 145,897.5.\n",
    "\n",
    "Marketing Investment for the current campaign (communication only) = € 145,897,5\n",
    "- Average cost per call = 145,897,5/41188 = € 3,54\n",
    "\n",
    "- There is no information regarding the actual campaign cost. This is merely an assumption based on the case study limited information and call center costs per hour in western europe.\n",
    "https://www.worldwidecallcenters.com/pt/call-center-pricing/\n",
    "\n",
    ">>> Will consider to change values for a more demonstrative approach"
   ]
  },
  {
   "cell_type": "markdown",
   "metadata": {},
   "source": [
    "- The base model will serve as a benchmark to compare against 3 uplift models, where the clients who have the highest probability/propensity of subscribing to a term deposit will be selected, and send them promotions.\n",
    "\n",
    "- The baseline model has a response rate of 11,26 %\n",
    "- The baseline model has a NIR of € 170959.40\n",
    "\n",
    " >>> I can use the actual revenue.\n",
    " >>>> Can use NIR to show how much more or less revenue the model would generate as compared to the actual revenue.\n",
    " >>>>> Or I can compare the baseline NIR... which doesnt make sense since Traditional Response Models do not use groups, therefore I should not generate the NIR.\n",
    " >>>> need advice"
   ]
  },
  {
   "cell_type": "markdown",
   "metadata": {},
   "source": [
    "# Model 1: Traditional Approach"
   ]
  },
  {
   "cell_type": "markdown",
   "metadata": {},
   "source": [
    "In this approach, labels of 1 are assignes to customers who received the promotion and subscribed for a term deposit, and labels of 0 to everyone else. This way, the model has to find the customers who are likely to subscribe only after they received a promotion.\n",
    "\n",
    "The traditional approach to uplift modeling is training a predictive model on only the treatment group. This model will separate those who are likely to respond from those who are less likely to respond.\n",
    "\n",
    "We will train the model on the entire dataset, but keep the original task of identifying customers who will make a purchase only after they were given a promotion.\n",
    "We can do this by assigning labels of 1 to individuals that received a promotion and made a purchase, and labels of 0 to everyone else.\n",
    "\n",
    "The model will be trained on the entire dataset.\n",
    "Response labels will be created:\n",
    "- Only those who received a promotion and subscribed receive a response label of 1.\n",
    "- All the others will receive a response label of 0.\n"
   ]
  },
  {
   "cell_type": "code",
   "execution_count": 22,
   "metadata": {},
   "outputs": [],
   "source": [
    "# generate labels\n",
    "# only those who subscribed after receiving a promotion will be assigned a label of 1, \n",
    "# while the other clients will be given a label of 0\n",
    "\n",
    "response = []\n",
    "\n",
    "for index, row in df_data.iterrows():\n",
    "    if (row['y'] == 1) and (row['Promotion']=='Received'):\n",
    "        response.append(1.0)\n",
    "    else:\n",
    "        response.append(0.0)\n",
    "        \n",
    "df_data['response'] = response"
   ]
  },
  {
   "cell_type": "code",
   "execution_count": 23,
   "metadata": {},
   "outputs": [
    {
     "data": {
      "text/html": [
       "<div>\n",
       "<style scoped>\n",
       "    .dataframe tbody tr th:only-of-type {\n",
       "        vertical-align: middle;\n",
       "    }\n",
       "\n",
       "    .dataframe tbody tr th {\n",
       "        vertical-align: top;\n",
       "    }\n",
       "\n",
       "    .dataframe thead th {\n",
       "        text-align: right;\n",
       "    }\n",
       "</style>\n",
       "<table border=\"1\" class=\"dataframe\">\n",
       "  <thead>\n",
       "    <tr style=\"text-align: right;\">\n",
       "      <th></th>\n",
       "      <th>age</th>\n",
       "      <th>job</th>\n",
       "      <th>marital</th>\n",
       "      <th>education</th>\n",
       "      <th>housing</th>\n",
       "      <th>contact</th>\n",
       "      <th>month</th>\n",
       "      <th>day_of_week</th>\n",
       "      <th>duration</th>\n",
       "      <th>previous</th>\n",
       "      <th>poutcome</th>\n",
       "      <th>y</th>\n",
       "      <th>Promotion</th>\n",
       "      <th>response</th>\n",
       "    </tr>\n",
       "  </thead>\n",
       "  <tbody>\n",
       "    <tr>\n",
       "      <th>0</th>\n",
       "      <td>3</td>\n",
       "      <td>3</td>\n",
       "      <td>1</td>\n",
       "      <td>0</td>\n",
       "      <td>0</td>\n",
       "      <td>1</td>\n",
       "      <td>6</td>\n",
       "      <td>1</td>\n",
       "      <td>3</td>\n",
       "      <td>0</td>\n",
       "      <td>1</td>\n",
       "      <td>0</td>\n",
       "      <td>Received</td>\n",
       "      <td>0.0</td>\n",
       "    </tr>\n",
       "    <tr>\n",
       "      <th>1</th>\n",
       "      <td>3</td>\n",
       "      <td>7</td>\n",
       "      <td>1</td>\n",
       "      <td>3</td>\n",
       "      <td>0</td>\n",
       "      <td>1</td>\n",
       "      <td>6</td>\n",
       "      <td>1</td>\n",
       "      <td>2</td>\n",
       "      <td>0</td>\n",
       "      <td>1</td>\n",
       "      <td>0</td>\n",
       "      <td>Not Received</td>\n",
       "      <td>0.0</td>\n",
       "    </tr>\n",
       "    <tr>\n",
       "      <th>2</th>\n",
       "      <td>2</td>\n",
       "      <td>7</td>\n",
       "      <td>1</td>\n",
       "      <td>3</td>\n",
       "      <td>2</td>\n",
       "      <td>1</td>\n",
       "      <td>6</td>\n",
       "      <td>1</td>\n",
       "      <td>3</td>\n",
       "      <td>0</td>\n",
       "      <td>1</td>\n",
       "      <td>0</td>\n",
       "      <td>Received</td>\n",
       "      <td>0.0</td>\n",
       "    </tr>\n",
       "    <tr>\n",
       "      <th>3</th>\n",
       "      <td>2</td>\n",
       "      <td>0</td>\n",
       "      <td>1</td>\n",
       "      <td>1</td>\n",
       "      <td>0</td>\n",
       "      <td>1</td>\n",
       "      <td>6</td>\n",
       "      <td>1</td>\n",
       "      <td>2</td>\n",
       "      <td>0</td>\n",
       "      <td>1</td>\n",
       "      <td>0</td>\n",
       "      <td>Not Received</td>\n",
       "      <td>0.0</td>\n",
       "    </tr>\n",
       "    <tr>\n",
       "      <th>4</th>\n",
       "      <td>3</td>\n",
       "      <td>7</td>\n",
       "      <td>1</td>\n",
       "      <td>3</td>\n",
       "      <td>0</td>\n",
       "      <td>1</td>\n",
       "      <td>6</td>\n",
       "      <td>1</td>\n",
       "      <td>3</td>\n",
       "      <td>0</td>\n",
       "      <td>1</td>\n",
       "      <td>0</td>\n",
       "      <td>Received</td>\n",
       "      <td>0.0</td>\n",
       "    </tr>\n",
       "  </tbody>\n",
       "</table>\n",
       "</div>"
      ],
      "text/plain": [
       "   age  job  marital  education  housing  contact  month  day_of_week  \\\n",
       "0    3    3        1          0        0        1      6            1   \n",
       "1    3    7        1          3        0        1      6            1   \n",
       "2    2    7        1          3        2        1      6            1   \n",
       "3    2    0        1          1        0        1      6            1   \n",
       "4    3    7        1          3        0        1      6            1   \n",
       "\n",
       "   duration  previous  poutcome  y     Promotion  response  \n",
       "0         3         0         1  0      Received       0.0  \n",
       "1         2         0         1  0  Not Received       0.0  \n",
       "2         3         0         1  0      Received       0.0  \n",
       "3         2         0         1  0  Not Received       0.0  \n",
       "4         3         0         1  0      Received       0.0  "
      ]
     },
     "execution_count": 23,
     "metadata": {},
     "output_type": "execute_result"
    }
   ],
   "source": [
    "df_data.head()"
   ]
  },
  {
   "cell_type": "markdown",
   "metadata": {},
   "source": [
    "\n",
    "•\t \tCompare predictive model performance against\n",
    " random results with lift charts and decile tables.\n",
    " \n",
    "- Using lift charts, hold out samples, and decile\n",
    " tables are a basic way to look at predictive\n",
    " model performance. Typically models are\n",
    " validated against a hold out group. This\n",
    " group contains data that has not been\n",
    " included in the development of the model.\n",
    " \n",
    " source: A Simple Framework for Building Predictive Models, Hal Kalechofsky, Ph.D.\n",
    " \n",
    " - As stated above, a split has to be performed and create a training and validation set.\n",
    " - Split ratio 80/20 \n"
   ]
  },
  {
   "cell_type": "code",
   "execution_count": 24,
   "metadata": {},
   "outputs": [],
   "source": [
    "# split data into train and valid\n",
    "train, valid = sk.model_selection.train_test_split(df_data, test_size=0.2,random_state=42)"
   ]
  },
  {
   "cell_type": "code",
   "execution_count": 25,
   "metadata": {},
   "outputs": [],
   "source": [
    "# generate features and labels\n",
    "Y_train = train['response']\n",
    "X_train = train[features]\n",
    "\n",
    "Y_valid = valid['response']\n",
    "X_valid = valid[features]"
   ]
  },
  {
   "cell_type": "code",
   "execution_count": 26,
   "metadata": {},
   "outputs": [
    {
     "data": {
      "text/plain": [
       "0.0    29704\n",
       "1.0     3246\n",
       "Name: response, dtype: int64"
      ]
     },
     "execution_count": 26,
     "metadata": {},
     "output_type": "execute_result"
    }
   ],
   "source": [
    "Y_train.value_counts()"
   ]
  },
  {
   "cell_type": "markdown",
   "metadata": {},
   "source": [
    "- As there are very few positive responses,in order to adjust training accuracy, we will up-sample the training data, but not the validation and test dataset. This will help balance the number of data points for each class."
   ]
  },
  {
   "cell_type": "code",
   "execution_count": 27,
   "metadata": {},
   "outputs": [],
   "source": [
    "\n",
    "# up sample only the train dataset with SMOTE\n",
    "sm = SMOTE(random_state=42, sampling_strategy=0.5)\n",
    "X_train_upsamp, Y_train_upsamp = sm.fit_sample(X_train, Y_train)\n",
    "    \n",
    "X_train_upsamp = pd.DataFrame(X_train_upsamp, columns=features)\n",
    "\n",
    "Y_train_upsamp = pd.Series(Y_train_upsamp)"
   ]
  },
  {
   "cell_type": "markdown",
   "metadata": {},
   "source": [
    "- Now, we are ready to feed the data into a machine learning model. The model used for this example is the XGBoost Classifier, a relatively popular model often used in machine learning competitions. Of course, you should try other machine learning models as well to see which is the most suitable.\n",
    " features in df"
   ]
  },
  {
   "cell_type": "code",
   "execution_count": 28,
   "metadata": {
    "scrolled": true
   },
   "outputs": [
    {
     "name": "stdout",
     "output_type": "stream",
     "text": [
      "[15:08:03] WARNING: C:\\Users\\Administrator\\workspace\\xgboost-win64_release_1.1.0\\src\\learner.cc:480: \n",
      "Parameters: { silent } might not be used.\n",
      "\n",
      "  This may not be accurate due to some parameters are only used in language bindings but\n",
      "  passed down to XGBoost core.  Or some parameters are not used but slip through this\n",
      "  verification. Please open an issue if you find above cases.\n",
      "\n",
      "\n",
      "[0]\tvalidation_0-auc:0.92643\tvalidation_1-auc:0.92127\n",
      "Multiple eval metrics have been passed: 'validation_1-auc' will be used for early stopping.\n",
      "\n",
      "Will train until validation_1-auc hasn't improved in 30 rounds.\n",
      "[1]\tvalidation_0-auc:0.92678\tvalidation_1-auc:0.92235\n",
      "[2]\tvalidation_0-auc:0.92853\tvalidation_1-auc:0.92312\n",
      "[3]\tvalidation_0-auc:0.92937\tvalidation_1-auc:0.92355\n",
      "[4]\tvalidation_0-auc:0.92970\tvalidation_1-auc:0.92395\n",
      "[5]\tvalidation_0-auc:0.93003\tvalidation_1-auc:0.92394\n",
      "[6]\tvalidation_0-auc:0.92955\tvalidation_1-auc:0.92359\n",
      "[7]\tvalidation_0-auc:0.93186\tvalidation_1-auc:0.92421\n",
      "[8]\tvalidation_0-auc:0.93252\tvalidation_1-auc:0.92473\n",
      "[9]\tvalidation_0-auc:0.93324\tvalidation_1-auc:0.92540\n",
      "[10]\tvalidation_0-auc:0.93358\tvalidation_1-auc:0.92517\n",
      "[11]\tvalidation_0-auc:0.93457\tvalidation_1-auc:0.92567\n",
      "[12]\tvalidation_0-auc:0.93484\tvalidation_1-auc:0.92602\n",
      "[13]\tvalidation_0-auc:0.93539\tvalidation_1-auc:0.92607\n",
      "[14]\tvalidation_0-auc:0.93578\tvalidation_1-auc:0.92657\n",
      "[15]\tvalidation_0-auc:0.93649\tvalidation_1-auc:0.92676\n",
      "[16]\tvalidation_0-auc:0.93680\tvalidation_1-auc:0.92672\n",
      "[17]\tvalidation_0-auc:0.93742\tvalidation_1-auc:0.92711\n",
      "[18]\tvalidation_0-auc:0.93786\tvalidation_1-auc:0.92707\n",
      "[19]\tvalidation_0-auc:0.93830\tvalidation_1-auc:0.92712\n",
      "[20]\tvalidation_0-auc:0.93852\tvalidation_1-auc:0.92712\n",
      "[21]\tvalidation_0-auc:0.93927\tvalidation_1-auc:0.92731\n",
      "[22]\tvalidation_0-auc:0.93975\tvalidation_1-auc:0.92712\n",
      "[23]\tvalidation_0-auc:0.94016\tvalidation_1-auc:0.92768\n",
      "[24]\tvalidation_0-auc:0.94145\tvalidation_1-auc:0.92895\n",
      "[25]\tvalidation_0-auc:0.94230\tvalidation_1-auc:0.92892\n",
      "[26]\tvalidation_0-auc:0.94286\tvalidation_1-auc:0.92860\n",
      "[27]\tvalidation_0-auc:0.94350\tvalidation_1-auc:0.92888\n",
      "[28]\tvalidation_0-auc:0.94418\tvalidation_1-auc:0.92924\n",
      "[29]\tvalidation_0-auc:0.94480\tvalidation_1-auc:0.92927\n",
      "[30]\tvalidation_0-auc:0.94521\tvalidation_1-auc:0.92962\n",
      "[31]\tvalidation_0-auc:0.94576\tvalidation_1-auc:0.92989\n",
      "[32]\tvalidation_0-auc:0.94632\tvalidation_1-auc:0.92985\n",
      "[33]\tvalidation_0-auc:0.94648\tvalidation_1-auc:0.92975\n",
      "[34]\tvalidation_0-auc:0.94680\tvalidation_1-auc:0.92994\n",
      "[35]\tvalidation_0-auc:0.94725\tvalidation_1-auc:0.92979\n",
      "[36]\tvalidation_0-auc:0.94754\tvalidation_1-auc:0.92956\n",
      "[37]\tvalidation_0-auc:0.94802\tvalidation_1-auc:0.93010\n",
      "[38]\tvalidation_0-auc:0.94827\tvalidation_1-auc:0.92994\n",
      "[39]\tvalidation_0-auc:0.94850\tvalidation_1-auc:0.92997\n",
      "[40]\tvalidation_0-auc:0.94878\tvalidation_1-auc:0.92994\n",
      "[41]\tvalidation_0-auc:0.94904\tvalidation_1-auc:0.92978\n",
      "[42]\tvalidation_0-auc:0.94940\tvalidation_1-auc:0.92993\n",
      "[43]\tvalidation_0-auc:0.94968\tvalidation_1-auc:0.93004\n",
      "[44]\tvalidation_0-auc:0.94995\tvalidation_1-auc:0.92991\n",
      "[45]\tvalidation_0-auc:0.95008\tvalidation_1-auc:0.92978\n",
      "[46]\tvalidation_0-auc:0.95020\tvalidation_1-auc:0.92979\n",
      "[47]\tvalidation_0-auc:0.95045\tvalidation_1-auc:0.92969\n",
      "[48]\tvalidation_0-auc:0.95056\tvalidation_1-auc:0.92945\n",
      "[49]\tvalidation_0-auc:0.95075\tvalidation_1-auc:0.92934\n",
      "[50]\tvalidation_0-auc:0.95098\tvalidation_1-auc:0.92942\n",
      "[51]\tvalidation_0-auc:0.95118\tvalidation_1-auc:0.92914\n",
      "[52]\tvalidation_0-auc:0.95128\tvalidation_1-auc:0.92926\n",
      "[53]\tvalidation_0-auc:0.95145\tvalidation_1-auc:0.92921\n",
      "[54]\tvalidation_0-auc:0.95172\tvalidation_1-auc:0.92906\n",
      "[55]\tvalidation_0-auc:0.95199\tvalidation_1-auc:0.92912\n",
      "[56]\tvalidation_0-auc:0.95226\tvalidation_1-auc:0.92899\n",
      "[57]\tvalidation_0-auc:0.95251\tvalidation_1-auc:0.92886\n",
      "[58]\tvalidation_0-auc:0.95259\tvalidation_1-auc:0.92875\n",
      "[59]\tvalidation_0-auc:0.95285\tvalidation_1-auc:0.92893\n",
      "[60]\tvalidation_0-auc:0.95304\tvalidation_1-auc:0.92907\n",
      "[61]\tvalidation_0-auc:0.95312\tvalidation_1-auc:0.92922\n",
      "[62]\tvalidation_0-auc:0.95326\tvalidation_1-auc:0.92902\n",
      "[63]\tvalidation_0-auc:0.95335\tvalidation_1-auc:0.92888\n",
      "[64]\tvalidation_0-auc:0.95352\tvalidation_1-auc:0.92911\n",
      "[65]\tvalidation_0-auc:0.95367\tvalidation_1-auc:0.92896\n",
      "[66]\tvalidation_0-auc:0.95392\tvalidation_1-auc:0.92917\n",
      "[67]\tvalidation_0-auc:0.95410\tvalidation_1-auc:0.92915\n",
      "Stopping. Best iteration:\n",
      "[37]\tvalidation_0-auc:0.94802\tvalidation_1-auc:0.93010\n",
      "\n"
     ]
    },
    {
     "data": {
      "text/plain": [
       "XGBClassifier(base_score=0.5, booster='gbtree', colsample_bylevel=1,\n",
       "              colsample_bynode=1, colsample_bytree=1, gamma=0.1, gpu_id=-1,\n",
       "              importance_type='gain', interaction_constraints='',\n",
       "              learning_rate=0.1, max_delta_step=0, max_depth=7,\n",
       "              min_child_weight=5, missing=nan, monotone_constraints='()',\n",
       "              n_estimators=100, n_jobs=0, num_parallel_tree=1, random_state=42,\n",
       "              reg_alpha=0, reg_lambda=1, scale_pos_weight=1, seed=42,\n",
       "              silent=True, subsample=1, tree_method='exact',\n",
       "              validate_parameters=1, verbosity=None)"
      ]
     },
     "execution_count": 28,
     "metadata": {},
     "output_type": "execute_result"
    }
   ],
   "source": [
    "# Train an xgboost model\n",
    "eval_set = [(X_train_upsamp, Y_train_upsamp),(X_valid, Y_valid)]\n",
    "model = xgb.XGBClassifier(learning_rate = 0.1,\\\n",
    "                          max_depth = 7,\\\n",
    "                          min_child_weight = 5,\\\n",
    "                          objective = 'binary:logistic',\\\n",
    "                          seed = 42,\\\n",
    "                          gamma = 0.1,\\\n",
    "                          silent = True)\n",
    "model.fit(X_train_upsamp, Y_train_upsamp, eval_set=eval_set,\\\n",
    "          eval_metric=\"auc\", verbose=True, early_stopping_rounds=30)"
   ]
  },
  {
   "cell_type": "code",
   "execution_count": 29,
   "metadata": {},
   "outputs": [
    {
     "data": {
      "image/png": "[encoded data removed]",
      "text/plain": [
       "<Figure size 720x1296 with 1 Axes>"
      ]
     },
     "metadata": {
      "needs_background": "light"
     },
     "output_type": "display_data"
    }
   ],
   "source": [
    "# Which features have greater importance \n",
    "\n",
    "from xgboost import plot_importance\n",
    "from matplotlib import pyplot\n",
    "\n",
    "fig, ax = pyplot.subplots(figsize=(10, 18));\n",
    "xgb.plot_importance(model, ax=ax);"
   ]
  },
  {
   "cell_type": "code",
   "execution_count": 30,
   "metadata": {},
   "outputs": [
    {
     "data": {
      "text/plain": [
       "array([[6485,  923],\n",
       "       [ 158,  672]], dtype=int64)"
      ]
     },
     "execution_count": 30,
     "metadata": {},
     "output_type": "execute_result"
    }
   ],
   "source": [
    "# confusion matrix\n",
    "valid_pred = model.predict(X_valid, ntree_limit=model.best_ntree_limit)\n",
    "cm = sk.metrics.confusion_matrix\n",
    "cm(Y_valid, valid_pred)"
   ]
  },
  {
   "cell_type": "code",
   "execution_count": 31,
   "metadata": {},
   "outputs": [
    {
     "data": {
      "image/png": "[encoded data removed]",
      "text/plain": [
       "<Figure size 720x720 with 2 Axes>"
      ]
     },
     "metadata": {
      "needs_background": "light"
     },
     "output_type": "display_data"
    }
   ],
   "source": [
    "# confusion marix for thge validation set\n",
    "valid_pred = model.predict(X_valid, ntree_limit=model.best_ntree_limit)\n",
    "cm = sk.metrics.confusion_matrix(Y_valid, valid_pred)\n",
    "\n",
    "fig, ax= plt.subplots(figsize=(10,10))\n",
    "sb.heatmap(cm, annot=True, fmt='g', ax = ax); #annot=True to annotate cells\n",
    "\n",
    "# labels, title and ticks\n",
    "ax.set_xlabel('Predicted labels');\n",
    "ax.set_ylabel('True labels'); \n",
    "ax.set_title('Confusion Matrix'); \n",
    "ax.xaxis.set_ticklabels(['No Purchase', 'Made Purchase']); \n",
    "ax.yaxis.set_ticklabels(['No Purchase', 'Made Purchase']);"
   ]
  },
  {
   "cell_type": "markdown",
   "metadata": {},
   "source": [
    "- So how do we predict whether a new individual should receive the promotion?\n",
    "- If the model predicts a label of 1 for that individual, then it is likely that the individual will respond favorably to the promotion campaign and we should send him or her the promotion.\n",
    "- Otherwise, we should not send a promotion."
   ]
  },
  {
   "cell_type": "code",
   "execution_count": 32,
   "metadata": {},
   "outputs": [],
   "source": [
    "def promotion_strategy(df):\n",
    " \n",
    "    test = df\n",
    "    \n",
    "    preds = model.predict(test, ntree_limit=model.best_ntree_limit)\n",
    "\n",
    "    send = []\n",
    "    for pred in preds:\n",
    "        if pred == 1:\n",
    "            send.append('yes')\n",
    "        else:\n",
    "            send.append('no')\n",
    "    send = np.array(send)\n",
    "    return send"
   ]
  },
  {
   "cell_type": "code",
   "execution_count": 33,
   "metadata": {},
   "outputs": [
    {
     "name": "stderr",
     "output_type": "stream",
     "text": [
      "C:\\Users\\rol3x\\anaconda3\\lib\\site-packages\\ipykernel_launcher.py:6: RuntimeWarning: invalid value encountered in longlong_scalars\n",
      "  \n"
     ]
    },
    {
     "data": {
      "text/plain": [
       "(nan, 171311.22)"
      ]
     },
     "execution_count": 33,
     "metadata": {},
     "output_type": "execute_result"
    }
   ],
   "source": [
    "# This will test your results, and provide you back some information \n",
    "# on how well your promotion_strategy will work in practice\n",
    "\n",
    "test_results(promotion_strategy)"
   ]
  },
  {
   "cell_type": "markdown",
   "metadata": {},
   "source": [
    "Test set:\n",
    "\n",
    "    IRR = 2,8%\n",
    "    NIR = € -107.85"
   ]
  },
  {
   "cell_type": "code",
   "execution_count": 34,
   "metadata": {},
   "outputs": [
    {
     "name": "stderr",
     "output_type": "stream",
     "text": [
      "C:\\Users\\rol3x\\anaconda3\\lib\\site-packages\\ipykernel_launcher.py:6: RuntimeWarning: invalid value encountered in longlong_scalars\n",
      "  \n"
     ]
    },
    {
     "data": {
      "text/plain": [
       "(nan, 162353.7)"
      ]
     },
     "execution_count": 34,
     "metadata": {},
     "output_type": "execute_result"
    }
   ],
   "source": [
    "\n",
    "# test irr and nir on our validation set\n",
    "valid_results(promotion_strategy, valid)"
   ]
  },
  {
   "cell_type": "markdown",
   "metadata": {},
   "source": [
    "Validation Set:\n",
    "    \n",
    "    IRR = 3,7%\n",
    "    NIR = € 151.10"
   ]
  },
  {
   "cell_type": "markdown",
   "metadata": {},
   "source": [
    "Result:\n",
    "    \n",
    "  - Since the IRR and NIR on the validation set had better results than the test set at 3,7% and € 151.10 ,the model's relatively worse performance on the test set may be due to random chance.\n",
    "  - In any case, these results are far better than in the base model approach, where the promotions were sent to the entire client base."
   ]
  },
  {
   "cell_type": "markdown",
   "metadata": {},
   "source": [
    "# Model 2: Two Models Approach"
   ]
  },
  {
   "cell_type": "markdown",
   "metadata": {},
   "source": [
    "- In this approach, we will train two models. One model will be trained on the treatment group (those who received the promotion) and we will refer to this model as the treatment model. Another model will be trained on the control group (those who did not received the promotion), and we will refer to this as the control model. The target of both models will be whether the individual made the purchase or not. \n",
    "\n",
    "- The treatment model will predict the probability that individual will make a purchase if he or she received the promotion, while the control model will predict the probability that individual will make a purchase if he or she did not receive the promotion. Ideally the difference in the probabilities, which we will call the lift:\n",
    "\n",
    "        - Lift = P(purchase / Treatment) - P(purchase / Control)\n",
    "        \n",
    "will tell us the probability that sending a promotion to an individual will increase his or her willingness to make a purhcase vs not sending a promotion. We can then send promotions to individuals with lift values higher than a pre-defined cutoff percentile. For example, we can send promotions to individuals in the top 3 deciles.\n",
    "\n"
   ]
  },
  {
   "cell_type": "markdown",
   "metadata": {},
   "source": [
    "- The two model approach is commonly described in uplift modeling literature. It is a simple and intuitive approach. Two separate models are trained: a control model and a treatment model.\n",
    "- The control model, which is trained only on the control data (individuals who did not receive the promotion), will predict how likely an individual will make a purchase without the influence of the treatment (receive no promotion).\n",
    "- The treatment model, which is trained only on the treatment data (individuals who received the promotion), will predict how likely an individual will make a purchase under the influence of the treatment (receive promotion).\n",
    "- Ideally, the difference in the predicted probabilities of the two models will indicate whether sending a promotion will increase an individual’s likelihood of making a purchase. We will refer to this difference in probabilities as the lift, a term commonly found in uplift modeling literature.\n",
    "\n",
    "- We can then select a cut-off percentile of the lift values, either through a grid search or manual selection, to identify which individuals we should send the promotions. For example, we can choose to send the promotions only to individuals with lift values in the top 5 percentiles."
   ]
  },
  {
   "cell_type": "markdown",
   "metadata": {},
   "source": [
    "The code for this model is relatively similar to the first model, except that we will be training two models on different datasets: one for the control group and the other for the treatment group. Remember to up-sample both the treatment and control training data separately as both groups are likely to have different characteristics."
   ]
  },
  {
   "cell_type": "code",
   "execution_count": 35,
   "metadata": {},
   "outputs": [],
   "source": [
    "# Load df_data\n",
    "df_data = pd.read_csv(r'C:\\Users\\rol3x\\MAIN_PATH\\df_data.csv',delimiter =',')\n",
    "\n",
    "# Load in test_data, check if everuthing checks out, compare with df_data\n",
    "test_data = pd.read_csv(r'C:\\Users\\rol3x\\MAIN_PATH\\testwlabel.csv',delimiter =',')\n"
   ]
  },
  {
   "cell_type": "code",
   "execution_count": 36,
   "metadata": {},
   "outputs": [],
   "source": [
    "# split data into train and valid\n",
    "train, valid = sk.model_selection.train_test_split(df_data, test_size=0.2,random_state=42)"
   ]
  },
  {
   "cell_type": "code",
   "execution_count": 37,
   "metadata": {},
   "outputs": [],
   "source": [
    "# Assign features in a dataframe separately form 'Promotion' and 'y'\n",
    "\n",
    "features =['age','job','marital','education','housing','contact','month','day_of_week','duration','previous','poutcome']\n",
    "\n",
    "# Generate validation data\n",
    "# one for control group, another for treatment group\n",
    "valid_control = valid[valid['Promotion']=='Not Received']\n",
    "Y_valid_control = valid_control['y']\n",
    "X_valid_control = valid_control[features]\n",
    "\n",
    "valid_exper = valid[valid['Promotion']=='Received']\n",
    "Y_valid_exper = valid_exper['y']\n",
    "X_valid_exper = valid_exper[features]"
   ]
  },
  {
   "cell_type": "code",
   "execution_count": 38,
   "metadata": {},
   "outputs": [],
   "source": [
    "# generate training data\n",
    "train_control = train[train['Promotion']=='Not Received']\n",
    "Y_train_control = train_control['y']\n",
    "X_train_control = train_control[features]\n",
    "\n",
    "train_exper = train[train['Promotion']=='Received']\n",
    "Y_train_exper = train_exper['y']\n",
    "X_train_exper = train_exper[features]"
   ]
  },
  {
   "cell_type": "code",
   "execution_count": 40,
   "metadata": {},
   "outputs": [],
   "source": [
    "# up-sample training data with SMOTE\n",
    "sm = SMOTE(random_state=42, sampling_strategy=0.5)\n",
    "\n",
    "# up-sample control group\n",
    "X_train_control_upsamp, Y_train_control_upsamp = sm.fit_sample(X_train_control, Y_train_control)\n",
    "X_train_control_upsamp = pd.DataFrame(X_train_control_upsamp, columns=features)\n",
    "Y_train_control_upsamp = pd.Series(Y_train_control_upsamp)\n",
    "\n",
    "# up-sample treatment group\n",
    "X_train_exper_upsamp, Y_train_exper_upsamp = sm.fit_sample(X_train_exper, Y_train_exper)    \n",
    "X_train_exper_upsamp = pd.DataFrame(X_train_exper_upsamp, columns=features)\n",
    "Y_train_exper_upsamp = pd.Series(Y_train_exper_upsamp)"
   ]
  },
  {
   "cell_type": "code",
   "execution_count": 41,
   "metadata": {
    "scrolled": true
   },
   "outputs": [
    {
     "name": "stdout",
     "output_type": "stream",
     "text": [
      "[15:08:41] WARNING: C:\\Users\\Administrator\\workspace\\xgboost-win64_release_1.1.0\\src\\learner.cc:480: \n",
      "Parameters: { silent } might not be used.\n",
      "\n",
      "  This may not be accurate due to some parameters are only used in language bindings but\n",
      "  passed down to XGBoost core.  Or some parameters are not used but slip through this\n",
      "  verification. Please open an issue if you find above cases.\n",
      "\n",
      "\n",
      "[0]\tvalidation_0-auc:0.93664\tvalidation_1-auc:0.87801\n",
      "Multiple eval metrics have been passed: 'validation_1-auc' will be used for early stopping.\n",
      "\n",
      "Will train until validation_1-auc hasn't improved in 30 rounds.\n",
      "[1]\tvalidation_0-auc:0.93808\tvalidation_1-auc:0.87722\n",
      "[2]\tvalidation_0-auc:0.94057\tvalidation_1-auc:0.88566\n",
      "[3]\tvalidation_0-auc:0.94158\tvalidation_1-auc:0.88585\n",
      "[4]\tvalidation_0-auc:0.94401\tvalidation_1-auc:0.88761\n",
      "[5]\tvalidation_0-auc:0.94632\tvalidation_1-auc:0.88701\n",
      "[6]\tvalidation_0-auc:0.94654\tvalidation_1-auc:0.88786\n",
      "[7]\tvalidation_0-auc:0.94893\tvalidation_1-auc:0.88775\n",
      "[8]\tvalidation_0-auc:0.94940\tvalidation_1-auc:0.88816\n",
      "[9]\tvalidation_0-auc:0.95200\tvalidation_1-auc:0.88750\n",
      "[10]\tvalidation_0-auc:0.95290\tvalidation_1-auc:0.88843\n",
      "[11]\tvalidation_0-auc:0.95466\tvalidation_1-auc:0.88683\n",
      "[12]\tvalidation_0-auc:0.95549\tvalidation_1-auc:0.88764\n",
      "[13]\tvalidation_0-auc:0.95689\tvalidation_1-auc:0.88674\n",
      "[14]\tvalidation_0-auc:0.95766\tvalidation_1-auc:0.88855\n",
      "[15]\tvalidation_0-auc:0.95958\tvalidation_1-auc:0.88784\n",
      "[16]\tvalidation_0-auc:0.96005\tvalidation_1-auc:0.88607\n",
      "[17]\tvalidation_0-auc:0.96154\tvalidation_1-auc:0.88787\n",
      "[18]\tvalidation_0-auc:0.96261\tvalidation_1-auc:0.88621\n",
      "[19]\tvalidation_0-auc:0.96332\tvalidation_1-auc:0.88632\n",
      "[20]\tvalidation_0-auc:0.96424\tvalidation_1-auc:0.88487\n",
      "[21]\tvalidation_0-auc:0.96567\tvalidation_1-auc:0.88572\n",
      "[22]\tvalidation_0-auc:0.96704\tvalidation_1-auc:0.88560\n",
      "[23]\tvalidation_0-auc:0.96775\tvalidation_1-auc:0.88487\n",
      "[24]\tvalidation_0-auc:0.96833\tvalidation_1-auc:0.88421\n",
      "[25]\tvalidation_0-auc:0.96937\tvalidation_1-auc:0.88457\n",
      "[26]\tvalidation_0-auc:0.96969\tvalidation_1-auc:0.88454\n",
      "[27]\tvalidation_0-auc:0.97046\tvalidation_1-auc:0.88570\n",
      "[28]\tvalidation_0-auc:0.97111\tvalidation_1-auc:0.88564\n",
      "[29]\tvalidation_0-auc:0.97147\tvalidation_1-auc:0.88578\n",
      "[30]\tvalidation_0-auc:0.97215\tvalidation_1-auc:0.88539\n",
      "[31]\tvalidation_0-auc:0.97234\tvalidation_1-auc:0.88646\n",
      "[32]\tvalidation_0-auc:0.97259\tvalidation_1-auc:0.88595\n",
      "[33]\tvalidation_0-auc:0.97323\tvalidation_1-auc:0.88627\n",
      "[34]\tvalidation_0-auc:0.97374\tvalidation_1-auc:0.88566\n",
      "[35]\tvalidation_0-auc:0.97398\tvalidation_1-auc:0.88445\n",
      "[36]\tvalidation_0-auc:0.97411\tvalidation_1-auc:0.88499\n",
      "[37]\tvalidation_0-auc:0.97462\tvalidation_1-auc:0.88394\n",
      "[38]\tvalidation_0-auc:0.97519\tvalidation_1-auc:0.88339\n",
      "[39]\tvalidation_0-auc:0.97530\tvalidation_1-auc:0.88327\n",
      "[40]\tvalidation_0-auc:0.97574\tvalidation_1-auc:0.88314\n",
      "[41]\tvalidation_0-auc:0.97593\tvalidation_1-auc:0.88289\n",
      "[42]\tvalidation_0-auc:0.97667\tvalidation_1-auc:0.88575\n",
      "[43]\tvalidation_0-auc:0.97672\tvalidation_1-auc:0.88559\n",
      "[44]\tvalidation_0-auc:0.97742\tvalidation_1-auc:0.88626\n",
      "Stopping. Best iteration:\n",
      "[14]\tvalidation_0-auc:0.95766\tvalidation_1-auc:0.88855\n",
      "\n"
     ]
    },
    {
     "data": {
      "text/plain": [
       "XGBClassifier(base_score=0.5, booster='gbtree', colsample_bylevel=1,\n",
       "              colsample_bynode=1, colsample_bytree=1, gamma=1, gpu_id=-1,\n",
       "              importance_type='gain', interaction_constraints='',\n",
       "              learning_rate=0.1, max_delta_step=0, max_depth=7,\n",
       "              min_child_weight=5, missing=nan, monotone_constraints='()',\n",
       "              n_estimators=100, n_jobs=0, num_parallel_tree=1, random_state=42,\n",
       "              reg_alpha=0, reg_lambda=1, scale_pos_weight=1, seed=42,\n",
       "              silent=True, subsample=1, tree_method='exact',\n",
       "              validate_parameters=1, verbosity=None)"
      ]
     },
     "execution_count": 41,
     "metadata": {},
     "output_type": "execute_result"
    }
   ],
   "source": [
    "# train control model\n",
    "eval_set = [(X_train_control_upsamp, Y_train_control_upsamp), (X_valid_control, Y_valid_control)]\n",
    "model_control = xgb.XGBClassifier(learning_rate = 0.1,\\\n",
    "                                  max_depth = 7,\\\n",
    "                                  min_child_weight = 5,\\\n",
    "                                  objective = 'binary:logistic',\\\n",
    "                                  seed = 42,\\\n",
    "                                  gamma = 1,\\\n",
    "                                  #colsample_bytree = 0.1,\\\n",
    "                                  silent = True)\n",
    "model_control.fit(X_train_control_upsamp, Y_train_control_upsamp, eval_set=eval_set,\\\n",
    "                    eval_metric=\"auc\", verbose=True, early_stopping_rounds=30)"
   ]
  },
  {
   "cell_type": "code",
   "execution_count": 42,
   "metadata": {},
   "outputs": [
    {
     "name": "stdout",
     "output_type": "stream",
     "text": [
      "[15:08:43] WARNING: C:\\Users\\Administrator\\workspace\\xgboost-win64_release_1.1.0\\src\\learner.cc:480: \n",
      "Parameters: { silent } might not be used.\n",
      "\n",
      "  This may not be accurate due to some parameters are only used in language bindings but\n",
      "  passed down to XGBoost core.  Or some parameters are not used but slip through this\n",
      "  verification. Please open an issue if you find above cases.\n",
      "\n",
      "\n",
      "[0]\tvalidation_0-auc:0.82919\tvalidation_1-auc:0.82441\n",
      "Multiple eval metrics have been passed: 'validation_1-auc' will be used for early stopping.\n",
      "\n",
      "Will train until validation_1-auc hasn't improved in 30 rounds.\n",
      "[1]\tvalidation_0-auc:0.83373\tvalidation_1-auc:0.82371\n",
      "[2]\tvalidation_0-auc:0.83499\tvalidation_1-auc:0.82505\n",
      "[3]\tvalidation_0-auc:0.84502\tvalidation_1-auc:0.83421\n",
      "[4]\tvalidation_0-auc:0.85024\tvalidation_1-auc:0.83892\n",
      "[5]\tvalidation_0-auc:0.85055\tvalidation_1-auc:0.83763\n",
      "[6]\tvalidation_0-auc:0.85140\tvalidation_1-auc:0.83919\n",
      "[7]\tvalidation_0-auc:0.85294\tvalidation_1-auc:0.84151\n",
      "[8]\tvalidation_0-auc:0.85413\tvalidation_1-auc:0.84342\n",
      "[9]\tvalidation_0-auc:0.85621\tvalidation_1-auc:0.84366\n",
      "[10]\tvalidation_0-auc:0.85727\tvalidation_1-auc:0.84601\n",
      "[11]\tvalidation_0-auc:0.86172\tvalidation_1-auc:0.84914\n",
      "[12]\tvalidation_0-auc:0.86309\tvalidation_1-auc:0.84985\n",
      "[13]\tvalidation_0-auc:0.86439\tvalidation_1-auc:0.84987\n",
      "[14]\tvalidation_0-auc:0.86499\tvalidation_1-auc:0.85013\n",
      "[15]\tvalidation_0-auc:0.86614\tvalidation_1-auc:0.85058\n",
      "[16]\tvalidation_0-auc:0.86729\tvalidation_1-auc:0.85110\n",
      "[17]\tvalidation_0-auc:0.86856\tvalidation_1-auc:0.85127\n",
      "[18]\tvalidation_0-auc:0.86930\tvalidation_1-auc:0.85203\n",
      "[19]\tvalidation_0-auc:0.87031\tvalidation_1-auc:0.85215\n",
      "[20]\tvalidation_0-auc:0.87140\tvalidation_1-auc:0.85264\n",
      "[21]\tvalidation_0-auc:0.87187\tvalidation_1-auc:0.85266\n",
      "[22]\tvalidation_0-auc:0.87335\tvalidation_1-auc:0.85353\n",
      "[23]\tvalidation_0-auc:0.87442\tvalidation_1-auc:0.85339\n",
      "[24]\tvalidation_0-auc:0.87554\tvalidation_1-auc:0.85403\n",
      "[25]\tvalidation_0-auc:0.87638\tvalidation_1-auc:0.85387\n",
      "[26]\tvalidation_0-auc:0.87739\tvalidation_1-auc:0.85418\n",
      "[27]\tvalidation_0-auc:0.87859\tvalidation_1-auc:0.85474\n",
      "[28]\tvalidation_0-auc:0.87919\tvalidation_1-auc:0.85513\n",
      "[29]\tvalidation_0-auc:0.88025\tvalidation_1-auc:0.85575\n",
      "[30]\tvalidation_0-auc:0.88120\tvalidation_1-auc:0.85594\n",
      "[31]\tvalidation_0-auc:0.88230\tvalidation_1-auc:0.85598\n",
      "[32]\tvalidation_0-auc:0.88265\tvalidation_1-auc:0.85569\n",
      "[33]\tvalidation_0-auc:0.88380\tvalidation_1-auc:0.85637\n",
      "[34]\tvalidation_0-auc:0.88465\tvalidation_1-auc:0.85604\n",
      "[35]\tvalidation_0-auc:0.88541\tvalidation_1-auc:0.85600\n",
      "[36]\tvalidation_0-auc:0.88626\tvalidation_1-auc:0.85650\n",
      "[37]\tvalidation_0-auc:0.88666\tvalidation_1-auc:0.85598\n",
      "[38]\tvalidation_0-auc:0.88729\tvalidation_1-auc:0.85581\n",
      "[39]\tvalidation_0-auc:0.88817\tvalidation_1-auc:0.85586\n",
      "[40]\tvalidation_0-auc:0.88852\tvalidation_1-auc:0.85572\n",
      "[41]\tvalidation_0-auc:0.88957\tvalidation_1-auc:0.85645\n",
      "[42]\tvalidation_0-auc:0.89026\tvalidation_1-auc:0.85668\n",
      "[43]\tvalidation_0-auc:0.89093\tvalidation_1-auc:0.85710\n",
      "[44]\tvalidation_0-auc:0.89124\tvalidation_1-auc:0.85698\n",
      "[45]\tvalidation_0-auc:0.89205\tvalidation_1-auc:0.85704\n",
      "[46]\tvalidation_0-auc:0.89242\tvalidation_1-auc:0.85686\n",
      "[47]\tvalidation_0-auc:0.89269\tvalidation_1-auc:0.85689\n",
      "[48]\tvalidation_0-auc:0.89327\tvalidation_1-auc:0.85754\n",
      "[49]\tvalidation_0-auc:0.89411\tvalidation_1-auc:0.85788\n",
      "[50]\tvalidation_0-auc:0.89451\tvalidation_1-auc:0.85786\n",
      "[51]\tvalidation_0-auc:0.89501\tvalidation_1-auc:0.85782\n",
      "[52]\tvalidation_0-auc:0.89551\tvalidation_1-auc:0.85813\n",
      "[53]\tvalidation_0-auc:0.89595\tvalidation_1-auc:0.85827\n",
      "[54]\tvalidation_0-auc:0.89662\tvalidation_1-auc:0.85846\n",
      "[55]\tvalidation_0-auc:0.89750\tvalidation_1-auc:0.85861\n",
      "[56]\tvalidation_0-auc:0.89789\tvalidation_1-auc:0.85872\n",
      "[57]\tvalidation_0-auc:0.89856\tvalidation_1-auc:0.85847\n",
      "[58]\tvalidation_0-auc:0.89881\tvalidation_1-auc:0.85858\n",
      "[59]\tvalidation_0-auc:0.89946\tvalidation_1-auc:0.85845\n",
      "[60]\tvalidation_0-auc:0.89985\tvalidation_1-auc:0.85825\n",
      "[61]\tvalidation_0-auc:0.90044\tvalidation_1-auc:0.85800\n",
      "[62]\tvalidation_0-auc:0.90121\tvalidation_1-auc:0.85809\n",
      "[63]\tvalidation_0-auc:0.90166\tvalidation_1-auc:0.85825\n",
      "[64]\tvalidation_0-auc:0.90212\tvalidation_1-auc:0.85825\n",
      "[65]\tvalidation_0-auc:0.90253\tvalidation_1-auc:0.85847\n",
      "[66]\tvalidation_0-auc:0.90312\tvalidation_1-auc:0.85833\n",
      "[67]\tvalidation_0-auc:0.90339\tvalidation_1-auc:0.85871\n",
      "[68]\tvalidation_0-auc:0.90381\tvalidation_1-auc:0.85869\n",
      "[69]\tvalidation_0-auc:0.90412\tvalidation_1-auc:0.85880\n",
      "[70]\tvalidation_0-auc:0.90470\tvalidation_1-auc:0.85877\n",
      "[71]\tvalidation_0-auc:0.90503\tvalidation_1-auc:0.85889\n",
      "[72]\tvalidation_0-auc:0.90527\tvalidation_1-auc:0.85881\n",
      "[73]\tvalidation_0-auc:0.90539\tvalidation_1-auc:0.85881\n",
      "[74]\tvalidation_0-auc:0.90590\tvalidation_1-auc:0.85870\n",
      "[75]\tvalidation_0-auc:0.90633\tvalidation_1-auc:0.85891\n",
      "[76]\tvalidation_0-auc:0.90680\tvalidation_1-auc:0.85869\n",
      "[77]\tvalidation_0-auc:0.90686\tvalidation_1-auc:0.85862\n",
      "[78]\tvalidation_0-auc:0.90727\tvalidation_1-auc:0.85853\n",
      "[79]\tvalidation_0-auc:0.90765\tvalidation_1-auc:0.85849\n",
      "[80]\tvalidation_0-auc:0.90769\tvalidation_1-auc:0.85853\n",
      "[81]\tvalidation_0-auc:0.90801\tvalidation_1-auc:0.85838\n",
      "[82]\tvalidation_0-auc:0.90841\tvalidation_1-auc:0.85826\n",
      "[83]\tvalidation_0-auc:0.90888\tvalidation_1-auc:0.85851\n",
      "[84]\tvalidation_0-auc:0.90905\tvalidation_1-auc:0.85838\n",
      "[85]\tvalidation_0-auc:0.90961\tvalidation_1-auc:0.85829\n",
      "[86]\tvalidation_0-auc:0.90993\tvalidation_1-auc:0.85831\n",
      "[87]\tvalidation_0-auc:0.90996\tvalidation_1-auc:0.85836\n",
      "[88]\tvalidation_0-auc:0.91043\tvalidation_1-auc:0.85848\n",
      "[89]\tvalidation_0-auc:0.91055\tvalidation_1-auc:0.85844\n",
      "[90]\tvalidation_0-auc:0.91090\tvalidation_1-auc:0.85834\n",
      "[91]\tvalidation_0-auc:0.91130\tvalidation_1-auc:0.85822\n",
      "[92]\tvalidation_0-auc:0.91153\tvalidation_1-auc:0.85807\n",
      "[93]\tvalidation_0-auc:0.91179\tvalidation_1-auc:0.85807\n",
      "[94]\tvalidation_0-auc:0.91192\tvalidation_1-auc:0.85793\n",
      "[95]\tvalidation_0-auc:0.91220\tvalidation_1-auc:0.85814\n",
      "[96]\tvalidation_0-auc:0.91241\tvalidation_1-auc:0.85811\n",
      "[97]\tvalidation_0-auc:0.91243\tvalidation_1-auc:0.85808\n",
      "[98]\tvalidation_0-auc:0.91270\tvalidation_1-auc:0.85816\n",
      "[99]\tvalidation_0-auc:0.91272\tvalidation_1-auc:0.85812\n"
     ]
    },
    {
     "data": {
      "text/plain": [
       "XGBClassifier(base_score=0.5, booster='gbtree', colsample_bylevel=1,\n",
       "              colsample_bynode=1, colsample_bytree=1, gamma=1, gpu_id=-1,\n",
       "              importance_type='gain', interaction_constraints='',\n",
       "              learning_rate=0.1, max_delta_step=0, max_depth=7,\n",
       "              min_child_weight=5, missing=nan, monotone_constraints='()',\n",
       "              n_estimators=100, n_jobs=0, num_parallel_tree=1, random_state=42,\n",
       "              reg_alpha=0, reg_lambda=1, scale_pos_weight=1, seed=42,\n",
       "              silent=True, subsample=1, tree_method='exact',\n",
       "              validate_parameters=1, verbosity=None)"
      ]
     },
     "execution_count": 42,
     "metadata": {},
     "output_type": "execute_result"
    }
   ],
   "source": [
    "# train treatment model\n",
    "eval_set = [(X_train_exper_upsamp, Y_train_exper_upsamp), (X_valid_exper, Y_valid_exper)]\n",
    "model_exper = xgb.XGBClassifier(learning_rate = 0.1,\\\n",
    "                                max_depth = 7,\\\n",
    "                                min_child_weight = 5,\\\n",
    "                                objective = 'binary:logistic',\\\n",
    "                                seed = 42,\\\n",
    "                                gamma = 1,\\\n",
    "                                #colsample_bytree = 0.1,\\\n",
    "                                silent = True)\n",
    "model_exper.fit(X_train_exper_upsamp, Y_train_exper_upsamp, eval_set=eval_set,\\\n",
    "                eval_metric=\"auc\", verbose=True, early_stopping_rounds=30)"
   ]
  },
  {
   "cell_type": "code",
   "execution_count": 43,
   "metadata": {},
   "outputs": [],
   "source": [
    "# make predictions on the validation data sets for both models\n",
    "control_valid_pred = model_control.predict(X_valid_control, ntree_limit=model_control.best_ntree_limit)\n",
    "exper_valid_pred = model_exper.predict(X_valid_exper, ntree_limit=model_exper.best_ntree_limit)"
   ]
  },
  {
   "cell_type": "code",
   "execution_count": 44,
   "metadata": {},
   "outputs": [
    {
     "data": {
      "image/png": "[encoded data removed]",
      "text/plain": [
       "<Figure size 720x720 with 2 Axes>"
      ]
     },
     "metadata": {
      "needs_background": "light"
     },
     "output_type": "display_data"
    }
   ],
   "source": [
    "# confusion marix for thge validation set\n",
    "valid_pred = model.predict(X_valid, ntree_limit=model.best_ntree_limit)\n",
    "cm = sk.metrics.confusion_matrix(Y_valid_control, control_valid_pred)\n",
    "\n",
    "fig, ax= plt.subplots(figsize=(10,10))\n",
    "sb.heatmap(cm, annot=True, fmt='g', ax = ax); #annot=True to annotate cells\n",
    "\n",
    "# labels, title and ticks\n",
    "ax.set_xlabel('Predicted labels');\n",
    "ax.set_ylabel('True labels'); \n",
    "ax.set_title('Confusion Matrix For Control Group'); \n",
    "ax.xaxis.set_ticklabels(['No Purchase', 'Made Purchase']); \n",
    "ax.yaxis.set_ticklabels(['No Purchase', 'Made Purchase']);"
   ]
  },
  {
   "cell_type": "code",
   "execution_count": 45,
   "metadata": {},
   "outputs": [
    {
     "data": {
      "image/png": "[encoded data removed]",
      "text/plain": [
       "<Figure size 720x720 with 2 Axes>"
      ]
     },
     "metadata": {
      "needs_background": "light"
     },
     "output_type": "display_data"
    }
   ],
   "source": [
    "\n",
    "# confusion marix for thge validation set\n",
    "valid_pred = model.predict(X_valid, ntree_limit=model.best_ntree_limit)\n",
    "cm = sk.metrics.confusion_matrix(Y_valid_exper, exper_valid_pred)\n",
    "\n",
    "fig, ax= plt.subplots(figsize=(10,10))\n",
    "sb.heatmap(cm, annot=True, fmt='g', ax = ax); #annot=True to annotate cells\n",
    "\n",
    "# labels, title and ticks\n",
    "ax.set_xlabel('Predicted labels');\n",
    "ax.set_ylabel('True labels'); \n",
    "ax.set_title('Confusion Matrix For Treatment Group'); \n",
    "ax.xaxis.set_ticklabels(['No Purchase', 'Made Purchase']); \n",
    "ax.yaxis.set_ticklabels(['No Purchase', 'Made Purchase']);"
   ]
  },
  {
   "cell_type": "code",
   "execution_count": 46,
   "metadata": {},
   "outputs": [],
   "source": [
    "def promotion_strategy(df):\n",
    "    \n",
    "    test = df\n",
    "    \n",
    "    pred_probs_contol = model_control.predict_proba(test, ntree_limit=model_control.best_ntree_limit)\n",
    "\n",
    "    pred_probs_exper = model_exper.predict_proba(test, ntree_limit=model_exper.best_ntree_limit)\n",
    "    \n",
    "    # get difference in probabilities between experimental and control model for y = 1 label\n",
    "    lift = pred_probs_exper[:,1] - pred_probs_contol[:,1]\n",
    "    \n",
    "    send = []\n",
    "    \n",
    "    # Only send promotions to top 3 percentile of probabilities >>>> Can change the cutoff if interested <<<<\n",
    "    cutoff_lift = np.percentile(lift, 75) # the model showed a 0.75 uplift in the top 3 deciles (bins) out of 10\n",
    "    \n",
    "    for prob in lift:\n",
    "        if prob > 0:\n",
    "            if prob > cutoff_lift:\n",
    "                send.append('yes')\n",
    "        else:\n",
    "            send.append('no')\n",
    "\n",
    "    send = np.array(send)\n",
    "    \n",
    "    return send"
   ]
  },
  {
   "cell_type": "code",
   "execution_count": 47,
   "metadata": {},
   "outputs": [
    {
     "data": {
      "text/plain": [
       "(0.2588556581543425, 134811.22)"
      ]
     },
     "execution_count": 47,
     "metadata": {},
     "output_type": "execute_result"
    }
   ],
   "source": [
    "# find out irr and nIr on our validation set\n",
    "valid_results(promotion_strategy, valid)"
   ]
  },
  {
   "cell_type": "code",
   "execution_count": 48,
   "metadata": {},
   "outputs": [
    {
     "data": {
      "text/plain": [
       "(0.29925777713367646, 144445.74)"
      ]
     },
     "execution_count": 48,
     "metadata": {},
     "output_type": "execute_result"
    }
   ],
   "source": [
    "# This will test your results, and provide you back some information \n",
    "# on how well your promotion_strategy will work in practice\n",
    "\n",
    "test_results(promotion_strategy)"
   ]
  },
  {
   "cell_type": "markdown",
   "metadata": {},
   "source": [
    "Results:\n",
    "\n",
    "- Using an XGBoost model, the performance of this approach on the test dataset is better that the Traditional One Model approach.\n",
    "- If we were to send out promotions only to individuals with lift values in the top 3 deciles:\n",
    "   - Test Set :\n",
    "      - IRR = 0.2993 %\n",
    "      - NIR = € 144445.74\n",
    "   - Validation Set:\n",
    "      - IRR = 0.2589 %\n",
    "      - NIR = 134811.22\n",
    " "
   ]
  },
  {
   "cell_type": "markdown",
   "metadata": {},
   "source": [
    "# Model 3: Four Quadrant Approach"
   ]
  },
  {
   "cell_type": "markdown",
   "metadata": {},
   "source": [
    "- This approach utilizes a single model to predict the probability of an individual belonging to one of the 4 categories (quadrants), and hence its name. These categories are:\n",
    "     - TR: the treatment and response group. Individuals in this group received a treatment (promotion) and responded (made a purchase)\n",
    "     - CR: the control and response group. Individuals in this group received no treatment (no promotion) but still responded (made a purchase)\n",
    "     - TN: the treatment and no response group. Individuals in this group received a treatment (promotion) but did not respond (made no purchase)\n",
    "     - CN: the control and no response group. Individuals in this group received no treatment (no promotion) and did not respond (made no purchase)\n",
    "\n",
    "- If an individual's TR probability is the highest among the four groups, it is likely that we will benefit by sending the individual a promotion to induce him or her to make a purchase.\n",
    "\n",
    "\n",
    "        - max[P(TR),P(CR),P(TN),P(CN)] = P(TR)\n",
    "     "
   ]
  },
  {
   "cell_type": "code",
   "execution_count": 49,
   "metadata": {},
   "outputs": [],
   "source": [
    "# Load df_data\n",
    "df_data = pd.read_csv(r'C:\\Users\\rol3x\\MAIN_PATH\\df_data.csv',delimiter =',')\n",
    "\n",
    "# Load in test_data, check if everuthing checks out, compare with df_data\n",
    "test_data = pd.read_csv(r'C:\\Users\\rol3x\\MAIN_PATH\\testwlabel.csv',delimiter =',')\n"
   ]
  },
  {
   "cell_type": "code",
   "execution_count": 50,
   "metadata": {},
   "outputs": [],
   "source": [
    "# Drop Unnamed: 0 from bots sets, it tries to identify client number. The sets already have nr as enrty.\n",
    "df_data = df_data.drop(['Unnamed: 0'],axis=1)\n",
    "test_data = test_data.drop(['Unnamed: 0'],axis=1)"
   ]
  },
  {
   "cell_type": "code",
   "execution_count": 51,
   "metadata": {},
   "outputs": [
    {
     "data": {
      "text/html": [
       "<div>\n",
       "<style scoped>\n",
       "    .dataframe tbody tr th:only-of-type {\n",
       "        vertical-align: middle;\n",
       "    }\n",
       "\n",
       "    .dataframe tbody tr th {\n",
       "        vertical-align: top;\n",
       "    }\n",
       "\n",
       "    .dataframe thead th {\n",
       "        text-align: right;\n",
       "    }\n",
       "</style>\n",
       "<table border=\"1\" class=\"dataframe\">\n",
       "  <thead>\n",
       "    <tr style=\"text-align: right;\">\n",
       "      <th></th>\n",
       "      <th>age</th>\n",
       "      <th>job</th>\n",
       "      <th>marital</th>\n",
       "      <th>education</th>\n",
       "      <th>housing</th>\n",
       "      <th>contact</th>\n",
       "      <th>month</th>\n",
       "      <th>day_of_week</th>\n",
       "      <th>duration</th>\n",
       "      <th>previous</th>\n",
       "      <th>poutcome</th>\n",
       "      <th>y</th>\n",
       "      <th>Promotion</th>\n",
       "      <th>segment</th>\n",
       "    </tr>\n",
       "  </thead>\n",
       "  <tbody>\n",
       "    <tr>\n",
       "      <th>0</th>\n",
       "      <td>3</td>\n",
       "      <td>3</td>\n",
       "      <td>1</td>\n",
       "      <td>0</td>\n",
       "      <td>0</td>\n",
       "      <td>1</td>\n",
       "      <td>6</td>\n",
       "      <td>1</td>\n",
       "      <td>3</td>\n",
       "      <td>0</td>\n",
       "      <td>1</td>\n",
       "      <td>0</td>\n",
       "      <td>Received</td>\n",
       "      <td>2</td>\n",
       "    </tr>\n",
       "    <tr>\n",
       "      <th>1</th>\n",
       "      <td>3</td>\n",
       "      <td>7</td>\n",
       "      <td>1</td>\n",
       "      <td>3</td>\n",
       "      <td>0</td>\n",
       "      <td>1</td>\n",
       "      <td>6</td>\n",
       "      <td>1</td>\n",
       "      <td>2</td>\n",
       "      <td>0</td>\n",
       "      <td>1</td>\n",
       "      <td>0</td>\n",
       "      <td>Not Received</td>\n",
       "      <td>3</td>\n",
       "    </tr>\n",
       "    <tr>\n",
       "      <th>2</th>\n",
       "      <td>2</td>\n",
       "      <td>7</td>\n",
       "      <td>1</td>\n",
       "      <td>3</td>\n",
       "      <td>2</td>\n",
       "      <td>1</td>\n",
       "      <td>6</td>\n",
       "      <td>1</td>\n",
       "      <td>3</td>\n",
       "      <td>0</td>\n",
       "      <td>1</td>\n",
       "      <td>0</td>\n",
       "      <td>Received</td>\n",
       "      <td>2</td>\n",
       "    </tr>\n",
       "    <tr>\n",
       "      <th>3</th>\n",
       "      <td>2</td>\n",
       "      <td>0</td>\n",
       "      <td>1</td>\n",
       "      <td>1</td>\n",
       "      <td>0</td>\n",
       "      <td>1</td>\n",
       "      <td>6</td>\n",
       "      <td>1</td>\n",
       "      <td>2</td>\n",
       "      <td>0</td>\n",
       "      <td>1</td>\n",
       "      <td>0</td>\n",
       "      <td>Not Received</td>\n",
       "      <td>3</td>\n",
       "    </tr>\n",
       "    <tr>\n",
       "      <th>4</th>\n",
       "      <td>3</td>\n",
       "      <td>7</td>\n",
       "      <td>1</td>\n",
       "      <td>3</td>\n",
       "      <td>0</td>\n",
       "      <td>1</td>\n",
       "      <td>6</td>\n",
       "      <td>1</td>\n",
       "      <td>3</td>\n",
       "      <td>0</td>\n",
       "      <td>1</td>\n",
       "      <td>0</td>\n",
       "      <td>Received</td>\n",
       "      <td>2</td>\n",
       "    </tr>\n",
       "  </tbody>\n",
       "</table>\n",
       "</div>"
      ],
      "text/plain": [
       "   age  job  marital  education  housing  contact  month  day_of_week  \\\n",
       "0    3    3        1          0        0        1      6            1   \n",
       "1    3    7        1          3        0        1      6            1   \n",
       "2    2    7        1          3        2        1      6            1   \n",
       "3    2    0        1          1        0        1      6            1   \n",
       "4    3    7        1          3        0        1      6            1   \n",
       "\n",
       "   duration  previous  poutcome  y     Promotion  segment  \n",
       "0         3         0         1  0      Received        2  \n",
       "1         2         0         1  0  Not Received        3  \n",
       "2         3         0         1  0      Received        2  \n",
       "3         2         0         1  0  Not Received        3  \n",
       "4         3         0         1  0      Received        2  "
      ]
     },
     "execution_count": 51,
     "metadata": {},
     "output_type": "execute_result"
    }
   ],
   "source": [
    "# Assign Group conditions\n",
    "segment = []\n",
    "for index, row in df_data.iterrows():\n",
    "    if (row['Promotion'] == \"Received\") & (row['y'] == 1):\n",
    "        # TR group\n",
    "        segment.append(0)\n",
    "    elif (row['Promotion'] == \"Not Received\") & (row['y'] == 1):\n",
    "        # CR group\n",
    "        segment.append(1)\n",
    "    elif (row['Promotion'] == \"Received\") & (row['y'] == 0):\n",
    "        # TN group\n",
    "        segment.append(2)\n",
    "    else: #CN group\n",
    "        segment.append(3)\n",
    "\n",
    "df_data['segment'] = segment\n",
    "df_data.head()"
   ]
  },
  {
   "cell_type": "code",
   "execution_count": 52,
   "metadata": {},
   "outputs": [],
   "source": [
    "train, valid = sk.model_selection.train_test_split(df_data, test_size=0.2,random_state=42)\n",
    "\n",
    "features =['age','job','marital','education','housing','contact','month','day_of_week','duration','previous','poutcome']\n",
    "\n",
    "Y_train = train['segment']\n",
    "X_train = train[features]\n",
    "\n",
    "Y_valid = valid['segment']\n",
    "X_valid = valid[features]"
   ]
  },
  {
   "cell_type": "code",
   "execution_count": 53,
   "metadata": {},
   "outputs": [
    {
     "data": {
      "text/plain": [
       "3    16129\n",
       "2    13116\n",
       "0     3246\n",
       "1      459\n",
       "Name: segment, dtype: int64"
      ]
     },
     "execution_count": 53,
     "metadata": {},
     "output_type": "execute_result"
    }
   ],
   "source": [
    "# check set count\n",
    "Y_train.value_counts()"
   ]
  },
  {
   "cell_type": "code",
   "execution_count": 54,
   "metadata": {},
   "outputs": [
    {
     "data": {
      "text/plain": [
       "3    16129\n",
       "2    16129\n",
       "1    16129\n",
       "0    16129\n",
       "Name: segment, dtype: int64"
      ]
     },
     "execution_count": 54,
     "metadata": {},
     "output_type": "execute_result"
    }
   ],
   "source": [
    "# up sample with SMOTE\n",
    "# normalize number by the largest y_train value count = 16129\n",
    "\n",
    "#sm = SMOTE({0: 16129, 1: 16129, 2: 16129, 3: 16129},sampling_strategy = 'auto' ,random_state=42)\n",
    "\n",
    "sm = SMOTE(sampling_strategy = 'all' ,random_state=42)\n",
    "        \n",
    "X_train_upsamp, Y_train_upsamp = sm.fit_sample(X_train, Y_train)\n",
    "    \n",
    "X_train_upsamp = pd.DataFrame(X_train_upsamp, columns=features)\n",
    "\n",
    "Y_train_upsamp = pd.Series(Y_train_upsamp)\n",
    "Y_train_upsamp.value_counts()"
   ]
  },
  {
   "cell_type": "code",
   "execution_count": 55,
   "metadata": {},
   "outputs": [
    {
     "data": {
      "text/html": [
       "<div>\n",
       "<style scoped>\n",
       "    .dataframe tbody tr th:only-of-type {\n",
       "        vertical-align: middle;\n",
       "    }\n",
       "\n",
       "    .dataframe tbody tr th {\n",
       "        vertical-align: top;\n",
       "    }\n",
       "\n",
       "    .dataframe thead th {\n",
       "        text-align: right;\n",
       "    }\n",
       "</style>\n",
       "<table border=\"1\" class=\"dataframe\">\n",
       "  <thead>\n",
       "    <tr style=\"text-align: right;\">\n",
       "      <th></th>\n",
       "      <th>age</th>\n",
       "      <th>job</th>\n",
       "      <th>marital</th>\n",
       "      <th>education</th>\n",
       "      <th>housing</th>\n",
       "      <th>contact</th>\n",
       "      <th>month</th>\n",
       "      <th>day_of_week</th>\n",
       "      <th>duration</th>\n",
       "      <th>previous</th>\n",
       "      <th>poutcome</th>\n",
       "    </tr>\n",
       "  </thead>\n",
       "  <tbody>\n",
       "    <tr>\n",
       "      <th>0</th>\n",
       "      <td>2</td>\n",
       "      <td>1</td>\n",
       "      <td>1</td>\n",
       "      <td>2</td>\n",
       "      <td>2</td>\n",
       "      <td>1</td>\n",
       "      <td>3</td>\n",
       "      <td>1</td>\n",
       "      <td>1</td>\n",
       "      <td>0</td>\n",
       "      <td>1</td>\n",
       "    </tr>\n",
       "    <tr>\n",
       "      <th>1</th>\n",
       "      <td>1</td>\n",
       "      <td>0</td>\n",
       "      <td>1</td>\n",
       "      <td>6</td>\n",
       "      <td>0</td>\n",
       "      <td>0</td>\n",
       "      <td>6</td>\n",
       "      <td>1</td>\n",
       "      <td>2</td>\n",
       "      <td>0</td>\n",
       "      <td>1</td>\n",
       "    </tr>\n",
       "    <tr>\n",
       "      <th>2</th>\n",
       "      <td>3</td>\n",
       "      <td>5</td>\n",
       "      <td>1</td>\n",
       "      <td>0</td>\n",
       "      <td>0</td>\n",
       "      <td>0</td>\n",
       "      <td>6</td>\n",
       "      <td>1</td>\n",
       "      <td>1</td>\n",
       "      <td>1</td>\n",
       "      <td>2</td>\n",
       "    </tr>\n",
       "    <tr>\n",
       "      <th>3</th>\n",
       "      <td>2</td>\n",
       "      <td>3</td>\n",
       "      <td>0</td>\n",
       "      <td>2</td>\n",
       "      <td>2</td>\n",
       "      <td>0</td>\n",
       "      <td>3</td>\n",
       "      <td>3</td>\n",
       "      <td>1</td>\n",
       "      <td>0</td>\n",
       "      <td>1</td>\n",
       "    </tr>\n",
       "    <tr>\n",
       "      <th>4</th>\n",
       "      <td>2</td>\n",
       "      <td>0</td>\n",
       "      <td>2</td>\n",
       "      <td>3</td>\n",
       "      <td>0</td>\n",
       "      <td>1</td>\n",
       "      <td>6</td>\n",
       "      <td>2</td>\n",
       "      <td>4</td>\n",
       "      <td>0</td>\n",
       "      <td>1</td>\n",
       "    </tr>\n",
       "  </tbody>\n",
       "</table>\n",
       "</div>"
      ],
      "text/plain": [
       "   age  job  marital  education  housing  contact  month  day_of_week  \\\n",
       "0    2    1        1          2        2        1      3            1   \n",
       "1    1    0        1          6        0        0      6            1   \n",
       "2    3    5        1          0        0        0      6            1   \n",
       "3    2    3        0          2        2        0      3            3   \n",
       "4    2    0        2          3        0        1      6            2   \n",
       "\n",
       "   duration  previous  poutcome  \n",
       "0         1         0         1  \n",
       "1         2         0         1  \n",
       "2         1         1         2  \n",
       "3         1         0         1  \n",
       "4         4         0         1  "
      ]
     },
     "execution_count": 55,
     "metadata": {},
     "output_type": "execute_result"
    }
   ],
   "source": [
    "X_train_upsamp.head()"
   ]
  },
  {
   "cell_type": "code",
   "execution_count": 56,
   "metadata": {},
   "outputs": [
    {
     "name": "stdout",
     "output_type": "stream",
     "text": [
      "[15:09:11] WARNING: C:\\Users\\Administrator\\workspace\\xgboost-win64_release_1.1.0\\src\\learner.cc:480: \n",
      "Parameters: { silent } might not be used.\n",
      "\n",
      "  This may not be accurate due to some parameters are only used in language bindings but\n",
      "  passed down to XGBoost core.  Or some parameters are not used but slip through this\n",
      "  verification. Please open an issue if you find above cases.\n",
      "\n",
      "\n",
      "[0]\tvalidation_0-mlogloss:1.26641\tvalidation_1-mlogloss:1.26813\n",
      "Multiple eval metrics have been passed: 'validation_1-mlogloss' will be used for early stopping.\n",
      "\n",
      "Will train until validation_1-mlogloss hasn't improved in 30 rounds.\n",
      "[1]\tvalidation_0-mlogloss:1.16764\tvalidation_1-mlogloss:1.17116\n",
      "[2]\tvalidation_0-mlogloss:1.08159\tvalidation_1-mlogloss:1.08641\n",
      "[3]\tvalidation_0-mlogloss:1.00695\tvalidation_1-mlogloss:1.01378\n",
      "[4]\tvalidation_0-mlogloss:0.94313\tvalidation_1-mlogloss:0.95151\n",
      "[5]\tvalidation_0-mlogloss:0.88868\tvalidation_1-mlogloss:0.89845\n",
      "[6]\tvalidation_0-mlogloss:0.83875\tvalidation_1-mlogloss:0.85074\n",
      "[7]\tvalidation_0-mlogloss:0.79631\tvalidation_1-mlogloss:0.80979\n",
      "[8]\tvalidation_0-mlogloss:0.75841\tvalidation_1-mlogloss:0.77426\n",
      "[9]\tvalidation_0-mlogloss:0.72217\tvalidation_1-mlogloss:0.73958\n",
      "[10]\tvalidation_0-mlogloss:0.69094\tvalidation_1-mlogloss:0.71024\n",
      "[11]\tvalidation_0-mlogloss:0.66147\tvalidation_1-mlogloss:0.68203\n",
      "[12]\tvalidation_0-mlogloss:0.63679\tvalidation_1-mlogloss:0.65928\n",
      "[13]\tvalidation_0-mlogloss:0.61320\tvalidation_1-mlogloss:0.63659\n",
      "[14]\tvalidation_0-mlogloss:0.59201\tvalidation_1-mlogloss:0.61676\n",
      "[15]\tvalidation_0-mlogloss:0.57336\tvalidation_1-mlogloss:0.59935\n",
      "[16]\tvalidation_0-mlogloss:0.55581\tvalidation_1-mlogloss:0.58295\n",
      "[17]\tvalidation_0-mlogloss:0.53978\tvalidation_1-mlogloss:0.56811\n",
      "[18]\tvalidation_0-mlogloss:0.52518\tvalidation_1-mlogloss:0.55479\n",
      "[19]\tvalidation_0-mlogloss:0.51147\tvalidation_1-mlogloss:0.54198\n",
      "[20]\tvalidation_0-mlogloss:0.49905\tvalidation_1-mlogloss:0.53061\n",
      "[21]\tvalidation_0-mlogloss:0.48767\tvalidation_1-mlogloss:0.52003\n",
      "[22]\tvalidation_0-mlogloss:0.47714\tvalidation_1-mlogloss:0.51062\n",
      "[23]\tvalidation_0-mlogloss:0.46777\tvalidation_1-mlogloss:0.50214\n",
      "[24]\tvalidation_0-mlogloss:0.45833\tvalidation_1-mlogloss:0.49345\n",
      "[25]\tvalidation_0-mlogloss:0.44869\tvalidation_1-mlogloss:0.48484\n",
      "[26]\tvalidation_0-mlogloss:0.44023\tvalidation_1-mlogloss:0.47703\n",
      "[27]\tvalidation_0-mlogloss:0.43236\tvalidation_1-mlogloss:0.46987\n",
      "[28]\tvalidation_0-mlogloss:0.42506\tvalidation_1-mlogloss:0.46334\n",
      "[29]\tvalidation_0-mlogloss:0.41859\tvalidation_1-mlogloss:0.45783\n",
      "[30]\tvalidation_0-mlogloss:0.41195\tvalidation_1-mlogloss:0.45199\n",
      "[31]\tvalidation_0-mlogloss:0.40607\tvalidation_1-mlogloss:0.44669\n",
      "[32]\tvalidation_0-mlogloss:0.40043\tvalidation_1-mlogloss:0.44173\n",
      "[33]\tvalidation_0-mlogloss:0.39456\tvalidation_1-mlogloss:0.43637\n",
      "[34]\tvalidation_0-mlogloss:0.38898\tvalidation_1-mlogloss:0.43142\n",
      "[35]\tvalidation_0-mlogloss:0.38456\tvalidation_1-mlogloss:0.42750\n",
      "[36]\tvalidation_0-mlogloss:0.37952\tvalidation_1-mlogloss:0.42318\n",
      "[37]\tvalidation_0-mlogloss:0.37499\tvalidation_1-mlogloss:0.41934\n",
      "[38]\tvalidation_0-mlogloss:0.37127\tvalidation_1-mlogloss:0.41645\n",
      "[39]\tvalidation_0-mlogloss:0.36734\tvalidation_1-mlogloss:0.41318\n",
      "[40]\tvalidation_0-mlogloss:0.36354\tvalidation_1-mlogloss:0.41017\n",
      "[41]\tvalidation_0-mlogloss:0.35994\tvalidation_1-mlogloss:0.40745\n",
      "[42]\tvalidation_0-mlogloss:0.35634\tvalidation_1-mlogloss:0.40439\n",
      "[43]\tvalidation_0-mlogloss:0.35308\tvalidation_1-mlogloss:0.40164\n",
      "[44]\tvalidation_0-mlogloss:0.34966\tvalidation_1-mlogloss:0.39898\n",
      "[45]\tvalidation_0-mlogloss:0.34680\tvalidation_1-mlogloss:0.39661\n",
      "[46]\tvalidation_0-mlogloss:0.34377\tvalidation_1-mlogloss:0.39423\n",
      "[47]\tvalidation_0-mlogloss:0.34058\tvalidation_1-mlogloss:0.39168\n",
      "[48]\tvalidation_0-mlogloss:0.33824\tvalidation_1-mlogloss:0.38973\n",
      "[49]\tvalidation_0-mlogloss:0.33598\tvalidation_1-mlogloss:0.38824\n",
      "[50]\tvalidation_0-mlogloss:0.33346\tvalidation_1-mlogloss:0.38630\n",
      "[51]\tvalidation_0-mlogloss:0.33125\tvalidation_1-mlogloss:0.38462\n",
      "[52]\tvalidation_0-mlogloss:0.32844\tvalidation_1-mlogloss:0.38240\n",
      "[53]\tvalidation_0-mlogloss:0.32617\tvalidation_1-mlogloss:0.38074\n",
      "[54]\tvalidation_0-mlogloss:0.32414\tvalidation_1-mlogloss:0.37915\n",
      "[55]\tvalidation_0-mlogloss:0.32167\tvalidation_1-mlogloss:0.37723\n",
      "[56]\tvalidation_0-mlogloss:0.31970\tvalidation_1-mlogloss:0.37562\n",
      "[57]\tvalidation_0-mlogloss:0.31788\tvalidation_1-mlogloss:0.37411\n",
      "[58]\tvalidation_0-mlogloss:0.31597\tvalidation_1-mlogloss:0.37258\n",
      "[59]\tvalidation_0-mlogloss:0.31402\tvalidation_1-mlogloss:0.37127\n",
      "[60]\tvalidation_0-mlogloss:0.31240\tvalidation_1-mlogloss:0.36992\n",
      "[61]\tvalidation_0-mlogloss:0.31050\tvalidation_1-mlogloss:0.36847\n",
      "[62]\tvalidation_0-mlogloss:0.30889\tvalidation_1-mlogloss:0.36708\n",
      "[63]\tvalidation_0-mlogloss:0.30717\tvalidation_1-mlogloss:0.36581\n",
      "[64]\tvalidation_0-mlogloss:0.30583\tvalidation_1-mlogloss:0.36485\n",
      "[65]\tvalidation_0-mlogloss:0.30466\tvalidation_1-mlogloss:0.36390\n",
      "[66]\tvalidation_0-mlogloss:0.30337\tvalidation_1-mlogloss:0.36279\n",
      "[67]\tvalidation_0-mlogloss:0.30227\tvalidation_1-mlogloss:0.36205\n",
      "[68]\tvalidation_0-mlogloss:0.30111\tvalidation_1-mlogloss:0.36118\n",
      "[69]\tvalidation_0-mlogloss:0.29949\tvalidation_1-mlogloss:0.35976\n",
      "[70]\tvalidation_0-mlogloss:0.29798\tvalidation_1-mlogloss:0.35867\n",
      "[71]\tvalidation_0-mlogloss:0.29674\tvalidation_1-mlogloss:0.35779\n",
      "[72]\tvalidation_0-mlogloss:0.29592\tvalidation_1-mlogloss:0.35734\n",
      "[73]\tvalidation_0-mlogloss:0.29503\tvalidation_1-mlogloss:0.35654\n",
      "[74]\tvalidation_0-mlogloss:0.29372\tvalidation_1-mlogloss:0.35574\n",
      "[75]\tvalidation_0-mlogloss:0.29266\tvalidation_1-mlogloss:0.35514\n",
      "[76]\tvalidation_0-mlogloss:0.29114\tvalidation_1-mlogloss:0.35370\n",
      "[77]\tvalidation_0-mlogloss:0.29013\tvalidation_1-mlogloss:0.35310\n",
      "[78]\tvalidation_0-mlogloss:0.28920\tvalidation_1-mlogloss:0.35269\n",
      "[79]\tvalidation_0-mlogloss:0.28820\tvalidation_1-mlogloss:0.35222\n",
      "[80]\tvalidation_0-mlogloss:0.28727\tvalidation_1-mlogloss:0.35171\n",
      "[81]\tvalidation_0-mlogloss:0.28632\tvalidation_1-mlogloss:0.35114\n",
      "[82]\tvalidation_0-mlogloss:0.28525\tvalidation_1-mlogloss:0.35044\n",
      "[83]\tvalidation_0-mlogloss:0.28451\tvalidation_1-mlogloss:0.34994\n",
      "[84]\tvalidation_0-mlogloss:0.28339\tvalidation_1-mlogloss:0.34911\n",
      "[85]\tvalidation_0-mlogloss:0.28257\tvalidation_1-mlogloss:0.34844\n",
      "[86]\tvalidation_0-mlogloss:0.28175\tvalidation_1-mlogloss:0.34807\n",
      "[87]\tvalidation_0-mlogloss:0.28106\tvalidation_1-mlogloss:0.34752\n",
      "[88]\tvalidation_0-mlogloss:0.28030\tvalidation_1-mlogloss:0.34724\n",
      "[89]\tvalidation_0-mlogloss:0.27968\tvalidation_1-mlogloss:0.34679\n",
      "[90]\tvalidation_0-mlogloss:0.27907\tvalidation_1-mlogloss:0.34656\n",
      "[91]\tvalidation_0-mlogloss:0.27816\tvalidation_1-mlogloss:0.34586\n",
      "[92]\tvalidation_0-mlogloss:0.27759\tvalidation_1-mlogloss:0.34547\n",
      "[93]\tvalidation_0-mlogloss:0.27670\tvalidation_1-mlogloss:0.34503\n",
      "[94]\tvalidation_0-mlogloss:0.27602\tvalidation_1-mlogloss:0.34476\n",
      "[95]\tvalidation_0-mlogloss:0.27525\tvalidation_1-mlogloss:0.34440\n",
      "[96]\tvalidation_0-mlogloss:0.27488\tvalidation_1-mlogloss:0.34422\n",
      "[97]\tvalidation_0-mlogloss:0.27413\tvalidation_1-mlogloss:0.34392\n",
      "[98]\tvalidation_0-mlogloss:0.27346\tvalidation_1-mlogloss:0.34348\n",
      "[99]\tvalidation_0-mlogloss:0.27274\tvalidation_1-mlogloss:0.34312\n"
     ]
    },
    {
     "data": {
      "text/plain": [
       "XGBClassifier(base_score=0.5, booster='gbtree', colsample_bylevel=1,\n",
       "              colsample_bynode=1, colsample_bytree=1, gamma=0.1, gpu_id=-1,\n",
       "              importance_type='gain', interaction_constraints='',\n",
       "              learning_rate=0.1, max_delta_step=0, max_depth=7,\n",
       "              min_child_weight=5, missing=nan, monotone_constraints='()',\n",
       "              n_estimators=100, n_jobs=0, num_class=4, num_parallel_tree=1,\n",
       "              objective='multi:softprob', random_state=42, reg_alpha=0,\n",
       "              reg_lambda=1, scale_pos_weight=None, seed=42, silent=True,\n",
       "              subsample=1, tree_method='exact', validate_parameters=1,\n",
       "              verbosity=None)"
      ]
     },
     "execution_count": 56,
     "metadata": {},
     "output_type": "execute_result"
    }
   ],
   "source": [
    "eval_set = [(X_train_upsamp, Y_train_upsamp), (X_valid, Y_valid)]\n",
    "model = xgb.XGBClassifier(learning_rate = 0.1,\\\n",
    "                          num_class=4,\\\n",
    "                                  max_depth = 7,\\\n",
    "                                  min_child_weight = 5,\\\n",
    "                                  objective = 'multi:softmax',\\\n",
    "                                  seed = 42,\\\n",
    "                                  gamma = 0.1,\\\n",
    "                                  silent = True)\n",
    "model.fit(X_train_upsamp, Y_train_upsamp, eval_set=eval_set,\\\n",
    "                    eval_metric=\"mlogloss\", verbose=True, early_stopping_rounds=30)"
   ]
  },
  {
   "cell_type": "code",
   "execution_count": 57,
   "metadata": {},
   "outputs": [
    {
     "data": {
      "image/png": "[encoded data removed]",
      "text/plain": [
       "<Figure size 720x720 with 2 Axes>"
      ]
     },
     "metadata": {
      "needs_background": "light"
     },
     "output_type": "display_data"
    }
   ],
   "source": [
    "# confusion marix for the validation set\n",
    "# Note:\n",
    "# TR: treatment and respond group (received promotion and made purchase)\n",
    "# CR: control and respond group (did not receive promotion but made purchase)\n",
    "# TN: treatment and no respond group (received promotion but did not made purchase)\n",
    "# CR: control and no respond group (did not receive promotion and made no purchase)\n",
    "valid_pred = model.predict(X_valid, ntree_limit=model.best_ntree_limit)\n",
    "cm = sk.metrics.confusion_matrix(Y_valid, valid_pred)\n",
    "\n",
    "fig, ax= plt.subplots(figsize=(10,10))\n",
    "sb.heatmap(cm, annot=True, fmt='g', ax = ax); #annot=True to annotate cells\n",
    "\n",
    "# labels, title and ticks\n",
    "ax.set_xlabel('Predicted labels');\n",
    "ax.set_ylabel('True labels'); \n",
    "ax.set_title('Confusion Matrix'); \n",
    "ax.xaxis.set_ticklabels(['TR', 'CR', 'TN', 'CN']); \n",
    "ax.yaxis.set_ticklabels(['TR', 'CR', 'TN', 'CN']);"
   ]
  },
  {
   "cell_type": "code",
   "execution_count": 64,
   "metadata": {},
   "outputs": [],
   "source": [
    "# This model produced floats for 0 as 0.xxx  but 1 remained as int\n",
    "# considered everything different from 1 as 0\n",
    "\n",
    "def promotion_strategy(df):\n",
    "    test = df\n",
    "    \n",
    "    pred = model.predict(test, ntree_limit=model.best_ntree_limit)\n",
    "    \n",
    "    send = []\n",
    "    \n",
    "    for pred in pred:\n",
    "        if pred == 0 :\n",
    "            send.append('yes')\n",
    "        else:\n",
    "            send.append('no')\n",
    "    \n",
    "    send = np.array(send)\n",
    "    \n",
    "    return send"
   ]
  },
  {
   "cell_type": "code",
   "execution_count": 65,
   "metadata": {},
   "outputs": [
    {
     "name": "stderr",
     "output_type": "stream",
     "text": [
      "C:\\Users\\rol3x\\anaconda3\\lib\\site-packages\\ipykernel_launcher.py:6: RuntimeWarning: invalid value encountered in longlong_scalars\n",
      "  \n"
     ]
    },
    {
     "data": {
      "text/plain": [
       "(nan, 165999.32)"
      ]
     },
     "execution_count": 65,
     "metadata": {},
     "output_type": "execute_result"
    }
   ],
   "source": [
    "# This will test your results, and provide you back some information \n",
    "# on how well your promotion_strategy will work in practice\n",
    "\n",
    "test_results(promotion_strategy)"
   ]
  },
  {
   "cell_type": "code",
   "execution_count": 66,
   "metadata": {},
   "outputs": [
    {
     "name": "stderr",
     "output_type": "stream",
     "text": [
      "C:\\Users\\rol3x\\anaconda3\\lib\\site-packages\\ipykernel_launcher.py:6: RuntimeWarning: invalid value encountered in longlong_scalars\n",
      "  \n"
     ]
    },
    {
     "data": {
      "text/plain": [
       "(nan, 152696.22)"
      ]
     },
     "execution_count": 66,
     "metadata": {},
     "output_type": "execute_result"
    }
   ],
   "source": [
    "# find out irr and nlr on our validation set\n",
    "valid_results(promotion_strategy, valid)"
   ]
  },
  {
   "cell_type": "markdown",
   "metadata": {},
   "source": [
    "Result:\n",
    "\n",
    "- Test Set :\n",
    "      - IRR = 0,198 %\n",
    "      - NIR = € 165999.32\n",
    "   - Validation Set:\n",
    "      - IRR =0,188 %\n",
    "      - NIR =  € 152696.22\n",
    " "
   ]
  },
  {
   "cell_type": "code",
   "execution_count": null,
   "metadata": {},
   "outputs": [],
   "source": []
  },
  {
   "cell_type": "markdown",
   "metadata": {},
   "source": [
    "> exercise source https://github.com/joshxinjie/Data_Scientist_Nanodegree/blob/master/starbucks_portfolio_exercise/Starbucks.ipynb"
   ]
  },
  {
   "cell_type": "code",
   "execution_count": null,
   "metadata": {},
   "outputs": [],
   "source": []
  },
  {
   "cell_type": "code",
   "execution_count": null,
   "metadata": {},
   "outputs": [],
   "source": []
  }
 ],
 "metadata": {
  "kernelspec": {
   "display_name": "Python 3",
   "language": "python",
   "name": "python3"
  },
  "language_info": {
   "codemirror_mode": {
    "name": "ipython",
    "version": 3
   },
   "file_extension": ".py",
   "mimetype": "text/x-python",
   "name": "python",
   "nbconvert_exporter": "python",
   "pygments_lexer": "ipython3",
   "version": "3.7.6"
  }
 },
 "nbformat": 4,
 "nbformat_minor": 4
}
